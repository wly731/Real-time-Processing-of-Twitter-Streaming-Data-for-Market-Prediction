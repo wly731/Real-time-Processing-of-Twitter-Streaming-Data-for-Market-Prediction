{
 "cells": [
  {
   "cell_type": "code",
   "execution_count": 1,
   "id": "bcbc879f",
   "metadata": {},
   "outputs": [],
   "source": [
    "%load_ext autoreload\n",
    "%autoreload 2\n",
    "\n",
    "from IPython.display import clear_output\n",
    "\n",
    "import anfis\n",
    "import membership.mfDerivs\n",
    "import membership.membershipfunction\n",
    "import numpy as np\n",
    "from skfuzzy import gaussmf, gbellmf, sigmf\n",
    "import pandas as pd\n",
    "from sklearn.linear_model import LinearRegression\n",
    "from sklearn.metrics import r2_score\n",
    "from sklearn.model_selection import train_test_split\n",
    "from sklearn.preprocessing import StandardScaler, LabelEncoder\n",
    "import statsmodels.api as sm\n",
    "from sklearn.ensemble import RandomForestClassifier\n",
    "from sklearn.svm import SVC\n",
    "from sklearn.neural_network import MLPClassifier\n",
    "from sklearn.metrics import confusion_matrix, classification_report, ConfusionMatrixDisplay, plot_confusion_matrix\n",
    "\n",
    "from numpy import asarray\n",
    "from numpy import save\n",
    "\n",
    "import random\n",
    "import sys\n",
    "import os"
   ]
  },
  {
   "cell_type": "markdown",
   "id": "fae23ec1",
   "metadata": {},
   "source": [
    "### Import sentiment scores from NLP and join with the original Tweets table"
   ]
  },
  {
   "cell_type": "code",
   "execution_count": 2,
   "id": "121b57c6",
   "metadata": {},
   "outputs": [],
   "source": [
    "ticker = \"TSLA\"\n",
    "name = \"tesla\""
   ]
  },
  {
   "cell_type": "code",
   "execution_count": 78,
   "id": "18f31623",
   "metadata": {},
   "outputs": [],
   "source": [
    "score = pd.read_csv(f'tweet_data/{name}.csv', sep=',')"
   ]
  },
  {
   "cell_type": "code",
   "execution_count": 79,
   "id": "c8842c88",
   "metadata": {},
   "outputs": [],
   "source": [
    "tweets = pd.read_csv(f'tweet_data/20221114_18_{ticker}_hashtag.csv', sep=',')"
   ]
  },
  {
   "cell_type": "code",
   "execution_count": 80,
   "id": "01f3ec79",
   "metadata": {},
   "outputs": [],
   "source": [
    "sentiment = pd.concat([tweets, score], axis=1)"
   ]
  },
  {
   "cell_type": "code",
   "execution_count": 81,
   "id": "12a5e5b5",
   "metadata": {},
   "outputs": [],
   "source": [
    "# datetime64[ns, UTC]\n",
    "sentiment[\"created_at\"] = pd.to_datetime(sentiment[\"created_at\"])"
   ]
  },
  {
   "cell_type": "code",
   "execution_count": 82,
   "id": "caf89e53",
   "metadata": {},
   "outputs": [],
   "source": [
    "sentiment = sentiment[[\"created_at\",\"text\",\"Positive\",\"Neutral\",\"Negative\"]]"
   ]
  },
  {
   "cell_type": "code",
   "execution_count": 83,
   "id": "7eabfccc",
   "metadata": {},
   "outputs": [],
   "source": [
    "sentiment.set_index(\"created_at\", inplace=True)"
   ]
  },
  {
   "cell_type": "code",
   "execution_count": 84,
   "id": "d496b9c9",
   "metadata": {},
   "outputs": [],
   "source": [
    "sentiment = sentiment.sort_index()"
   ]
  },
  {
   "cell_type": "code",
   "execution_count": 85,
   "id": "4fb13044",
   "metadata": {},
   "outputs": [
    {
     "data": {
      "text/html": [
       "<div>\n",
       "<style scoped>\n",
       "    .dataframe tbody tr th:only-of-type {\n",
       "        vertical-align: middle;\n",
       "    }\n",
       "\n",
       "    .dataframe tbody tr th {\n",
       "        vertical-align: top;\n",
       "    }\n",
       "\n",
       "    .dataframe thead th {\n",
       "        text-align: right;\n",
       "    }\n",
       "</style>\n",
       "<table border=\"1\" class=\"dataframe\">\n",
       "  <thead>\n",
       "    <tr style=\"text-align: right;\">\n",
       "      <th></th>\n",
       "      <th>text</th>\n",
       "      <th>Positive</th>\n",
       "      <th>Neutral</th>\n",
       "      <th>Negative</th>\n",
       "    </tr>\n",
       "    <tr>\n",
       "      <th>created_at</th>\n",
       "      <th></th>\n",
       "      <th></th>\n",
       "      <th></th>\n",
       "      <th></th>\n",
       "    </tr>\n",
       "  </thead>\n",
       "  <tbody>\n",
       "    <tr>\n",
       "      <th>2022-11-14 00:00:54+00:00</th>\n",
       "      <td>1 SPY 2 QQQ 3 SPX 4 BTC 5 NVDA 6 AMZN 7 ES F 8...</td>\n",
       "      <td>0.075769</td>\n",
       "      <td>0.909688</td>\n",
       "      <td>0.014542</td>\n",
       "    </tr>\n",
       "    <tr>\n",
       "      <th>2022-11-14 00:03:26+00:00</th>\n",
       "      <td>Most mentioned tickers in WSB in last 1H 1 SPY...</td>\n",
       "      <td>0.073537</td>\n",
       "      <td>0.914473</td>\n",
       "      <td>0.011991</td>\n",
       "    </tr>\n",
       "    <tr>\n",
       "      <th>2022-11-14 00:04:07+00:00</th>\n",
       "      <td>SOLID SWING TRADING CONCEPTS GET YOUR FREE EBO...</td>\n",
       "      <td>0.438204</td>\n",
       "      <td>0.553296</td>\n",
       "      <td>0.008499</td>\n",
       "    </tr>\n",
       "    <tr>\n",
       "      <th>2022-11-14 00:10:06+00:00</th>\n",
       "      <td>RT Happy Sunday Here Are My Top5ThingsToKnowTh...</td>\n",
       "      <td>0.780914</td>\n",
       "      <td>0.213451</td>\n",
       "      <td>0.005635</td>\n",
       "    </tr>\n",
       "    <tr>\n",
       "      <th>2022-11-14 00:10:43+00:00</th>\n",
       "      <td>SOLID SWING TRADING CONCEPTS GET YOUR FREE EBO...</td>\n",
       "      <td>0.438204</td>\n",
       "      <td>0.553296</td>\n",
       "      <td>0.008499</td>\n",
       "    </tr>\n",
       "    <tr>\n",
       "      <th>...</th>\n",
       "      <td>...</td>\n",
       "      <td>...</td>\n",
       "      <td>...</td>\n",
       "      <td>...</td>\n",
       "    </tr>\n",
       "    <tr>\n",
       "      <th>2022-11-18 23:44:55+00:00</th>\n",
       "      <td>Every Morning hours before the open I Study Re...</td>\n",
       "      <td>0.065030</td>\n",
       "      <td>0.922793</td>\n",
       "      <td>0.012177</td>\n",
       "    </tr>\n",
       "    <tr>\n",
       "      <th>2022-11-18 23:51:51+00:00</th>\n",
       "      <td>RT NVIDIAOmniverse was just revealed as one of...</td>\n",
       "      <td>0.726830</td>\n",
       "      <td>0.270193</td>\n",
       "      <td>0.002976</td>\n",
       "    </tr>\n",
       "    <tr>\n",
       "      <th>2022-11-18 23:53:53+00:00</th>\n",
       "      <td>Top tweeted stocks TSLA AAPL NVDA PANW ROST GR...</td>\n",
       "      <td>0.212224</td>\n",
       "      <td>0.764756</td>\n",
       "      <td>0.023020</td>\n",
       "    </tr>\n",
       "    <tr>\n",
       "      <th>2022-11-18 23:58:58+00:00</th>\n",
       "      <td>IN TODAY S RE CAP FOR 11 18 2022 FROM PRE MARK...</td>\n",
       "      <td>0.947283</td>\n",
       "      <td>0.048315</td>\n",
       "      <td>0.004402</td>\n",
       "    </tr>\n",
       "    <tr>\n",
       "      <th>2022-11-18 23:59:36+00:00</th>\n",
       "      <td>Nvidia faces lawsuit for melting RTX 4090 cabl...</td>\n",
       "      <td>0.053391</td>\n",
       "      <td>0.827553</td>\n",
       "      <td>0.119056</td>\n",
       "    </tr>\n",
       "  </tbody>\n",
       "</table>\n",
       "<p>3491 rows × 4 columns</p>\n",
       "</div>"
      ],
      "text/plain": [
       "                                                                        text  \\\n",
       "created_at                                                                     \n",
       "2022-11-14 00:00:54+00:00  1 SPY 2 QQQ 3 SPX 4 BTC 5 NVDA 6 AMZN 7 ES F 8...   \n",
       "2022-11-14 00:03:26+00:00  Most mentioned tickers in WSB in last 1H 1 SPY...   \n",
       "2022-11-14 00:04:07+00:00  SOLID SWING TRADING CONCEPTS GET YOUR FREE EBO...   \n",
       "2022-11-14 00:10:06+00:00  RT Happy Sunday Here Are My Top5ThingsToKnowTh...   \n",
       "2022-11-14 00:10:43+00:00  SOLID SWING TRADING CONCEPTS GET YOUR FREE EBO...   \n",
       "...                                                                      ...   \n",
       "2022-11-18 23:44:55+00:00  Every Morning hours before the open I Study Re...   \n",
       "2022-11-18 23:51:51+00:00  RT NVIDIAOmniverse was just revealed as one of...   \n",
       "2022-11-18 23:53:53+00:00  Top tweeted stocks TSLA AAPL NVDA PANW ROST GR...   \n",
       "2022-11-18 23:58:58+00:00  IN TODAY S RE CAP FOR 11 18 2022 FROM PRE MARK...   \n",
       "2022-11-18 23:59:36+00:00  Nvidia faces lawsuit for melting RTX 4090 cabl...   \n",
       "\n",
       "                           Positive   Neutral  Negative  \n",
       "created_at                                               \n",
       "2022-11-14 00:00:54+00:00  0.075769  0.909688  0.014542  \n",
       "2022-11-14 00:03:26+00:00  0.073537  0.914473  0.011991  \n",
       "2022-11-14 00:04:07+00:00  0.438204  0.553296  0.008499  \n",
       "2022-11-14 00:10:06+00:00  0.780914  0.213451  0.005635  \n",
       "2022-11-14 00:10:43+00:00  0.438204  0.553296  0.008499  \n",
       "...                             ...       ...       ...  \n",
       "2022-11-18 23:44:55+00:00  0.065030  0.922793  0.012177  \n",
       "2022-11-18 23:51:51+00:00  0.726830  0.270193  0.002976  \n",
       "2022-11-18 23:53:53+00:00  0.212224  0.764756  0.023020  \n",
       "2022-11-18 23:58:58+00:00  0.947283  0.048315  0.004402  \n",
       "2022-11-18 23:59:36+00:00  0.053391  0.827553  0.119056  \n",
       "\n",
       "[3491 rows x 4 columns]"
      ]
     },
     "execution_count": 85,
     "metadata": {},
     "output_type": "execute_result"
    }
   ],
   "source": [
    "sentiment"
   ]
  },
  {
   "cell_type": "markdown",
   "id": "0cfde56f",
   "metadata": {},
   "source": [
    "### Data pre-processing\n",
    "- Resample irregular time interval into every 5 minutes\n",
    "- Calculate average sentiment scores for all tweets in the same 5-minute bin"
   ]
  },
  {
   "cell_type": "code",
   "execution_count": 87,
   "id": "898e4fbc",
   "metadata": {},
   "outputs": [],
   "source": [
    "# number of tweets in that time\n",
    "\n",
    "sentiment_agg = sentiment.resample('5T').mean().add_suffix('_agg')\n",
    "sentiment_agg = sentiment_agg.shift(1)\n",
    "sentiment_agg = sentiment_agg.iloc[1: , :]\n",
    "sentiment_agg = sentiment_agg.fillna(method=\"ffill\")\n",
    "sentiment_agg.reset_index(inplace=True)\n",
    "sentiment_agg['time'] = sentiment_agg[\"created_at\"].dt.tz_convert('US/Eastern')"
   ]
  },
  {
   "cell_type": "code",
   "execution_count": 88,
   "id": "226c392e",
   "metadata": {},
   "outputs": [
    {
     "data": {
      "text/html": [
       "<div>\n",
       "<style scoped>\n",
       "    .dataframe tbody tr th:only-of-type {\n",
       "        vertical-align: middle;\n",
       "    }\n",
       "\n",
       "    .dataframe tbody tr th {\n",
       "        vertical-align: top;\n",
       "    }\n",
       "\n",
       "    .dataframe thead th {\n",
       "        text-align: right;\n",
       "    }\n",
       "</style>\n",
       "<table border=\"1\" class=\"dataframe\">\n",
       "  <thead>\n",
       "    <tr style=\"text-align: right;\">\n",
       "      <th></th>\n",
       "      <th>created_at</th>\n",
       "      <th>Positive_agg</th>\n",
       "      <th>Neutral_agg</th>\n",
       "      <th>Negative_agg</th>\n",
       "      <th>time</th>\n",
       "    </tr>\n",
       "  </thead>\n",
       "  <tbody>\n",
       "    <tr>\n",
       "      <th>0</th>\n",
       "      <td>2022-11-14 00:05:00+00:00</td>\n",
       "      <td>0.195837</td>\n",
       "      <td>0.792486</td>\n",
       "      <td>0.011678</td>\n",
       "      <td>2022-11-13 19:05:00-05:00</td>\n",
       "    </tr>\n",
       "    <tr>\n",
       "      <th>1</th>\n",
       "      <td>2022-11-14 00:10:00+00:00</td>\n",
       "      <td>0.195837</td>\n",
       "      <td>0.792486</td>\n",
       "      <td>0.011678</td>\n",
       "      <td>2022-11-13 19:10:00-05:00</td>\n",
       "    </tr>\n",
       "    <tr>\n",
       "      <th>2</th>\n",
       "      <td>2022-11-14 00:15:00+00:00</td>\n",
       "      <td>0.499119</td>\n",
       "      <td>0.492841</td>\n",
       "      <td>0.008040</td>\n",
       "      <td>2022-11-13 19:15:00-05:00</td>\n",
       "    </tr>\n",
       "    <tr>\n",
       "      <th>3</th>\n",
       "      <td>2022-11-14 00:20:00+00:00</td>\n",
       "      <td>0.219236</td>\n",
       "      <td>0.753344</td>\n",
       "      <td>0.027420</td>\n",
       "      <td>2022-11-13 19:20:00-05:00</td>\n",
       "    </tr>\n",
       "    <tr>\n",
       "      <th>4</th>\n",
       "      <td>2022-11-14 00:25:00+00:00</td>\n",
       "      <td>0.231434</td>\n",
       "      <td>0.443546</td>\n",
       "      <td>0.325021</td>\n",
       "      <td>2022-11-13 19:25:00-05:00</td>\n",
       "    </tr>\n",
       "    <tr>\n",
       "      <th>...</th>\n",
       "      <td>...</td>\n",
       "      <td>...</td>\n",
       "      <td>...</td>\n",
       "      <td>...</td>\n",
       "      <td>...</td>\n",
       "    </tr>\n",
       "    <tr>\n",
       "      <th>1434</th>\n",
       "      <td>2022-11-18 23:35:00+00:00</td>\n",
       "      <td>0.968803</td>\n",
       "      <td>0.025549</td>\n",
       "      <td>0.005648</td>\n",
       "      <td>2022-11-18 18:35:00-05:00</td>\n",
       "    </tr>\n",
       "    <tr>\n",
       "      <th>1435</th>\n",
       "      <td>2022-11-18 23:40:00+00:00</td>\n",
       "      <td>0.220496</td>\n",
       "      <td>0.770337</td>\n",
       "      <td>0.009166</td>\n",
       "      <td>2022-11-18 18:40:00-05:00</td>\n",
       "    </tr>\n",
       "    <tr>\n",
       "      <th>1436</th>\n",
       "      <td>2022-11-18 23:45:00+00:00</td>\n",
       "      <td>0.065030</td>\n",
       "      <td>0.922793</td>\n",
       "      <td>0.012177</td>\n",
       "      <td>2022-11-18 18:45:00-05:00</td>\n",
       "    </tr>\n",
       "    <tr>\n",
       "      <th>1437</th>\n",
       "      <td>2022-11-18 23:50:00+00:00</td>\n",
       "      <td>0.065030</td>\n",
       "      <td>0.922793</td>\n",
       "      <td>0.012177</td>\n",
       "      <td>2022-11-18 18:50:00-05:00</td>\n",
       "    </tr>\n",
       "    <tr>\n",
       "      <th>1438</th>\n",
       "      <td>2022-11-18 23:55:00+00:00</td>\n",
       "      <td>0.469527</td>\n",
       "      <td>0.517474</td>\n",
       "      <td>0.012998</td>\n",
       "      <td>2022-11-18 18:55:00-05:00</td>\n",
       "    </tr>\n",
       "  </tbody>\n",
       "</table>\n",
       "<p>1439 rows × 5 columns</p>\n",
       "</div>"
      ],
      "text/plain": [
       "                    created_at  Positive_agg  Neutral_agg  Negative_agg  \\\n",
       "0    2022-11-14 00:05:00+00:00      0.195837     0.792486      0.011678   \n",
       "1    2022-11-14 00:10:00+00:00      0.195837     0.792486      0.011678   \n",
       "2    2022-11-14 00:15:00+00:00      0.499119     0.492841      0.008040   \n",
       "3    2022-11-14 00:20:00+00:00      0.219236     0.753344      0.027420   \n",
       "4    2022-11-14 00:25:00+00:00      0.231434     0.443546      0.325021   \n",
       "...                        ...           ...          ...           ...   \n",
       "1434 2022-11-18 23:35:00+00:00      0.968803     0.025549      0.005648   \n",
       "1435 2022-11-18 23:40:00+00:00      0.220496     0.770337      0.009166   \n",
       "1436 2022-11-18 23:45:00+00:00      0.065030     0.922793      0.012177   \n",
       "1437 2022-11-18 23:50:00+00:00      0.065030     0.922793      0.012177   \n",
       "1438 2022-11-18 23:55:00+00:00      0.469527     0.517474      0.012998   \n",
       "\n",
       "                          time  \n",
       "0    2022-11-13 19:05:00-05:00  \n",
       "1    2022-11-13 19:10:00-05:00  \n",
       "2    2022-11-13 19:15:00-05:00  \n",
       "3    2022-11-13 19:20:00-05:00  \n",
       "4    2022-11-13 19:25:00-05:00  \n",
       "...                        ...  \n",
       "1434 2022-11-18 18:35:00-05:00  \n",
       "1435 2022-11-18 18:40:00-05:00  \n",
       "1436 2022-11-18 18:45:00-05:00  \n",
       "1437 2022-11-18 18:50:00-05:00  \n",
       "1438 2022-11-18 18:55:00-05:00  \n",
       "\n",
       "[1439 rows x 5 columns]"
      ]
     },
     "execution_count": 88,
     "metadata": {},
     "output_type": "execute_result"
    }
   ],
   "source": [
    "sentiment_agg"
   ]
  },
  {
   "cell_type": "markdown",
   "id": "43cf440e",
   "metadata": {},
   "source": [
    "### Join with the price table"
   ]
  },
  {
   "cell_type": "code",
   "execution_count": 89,
   "id": "13d86a2a",
   "metadata": {},
   "outputs": [],
   "source": [
    "price = pd.read_csv(f\"price_data/{ticker}_202210_11_min.csv\",sep=',')"
   ]
  },
  {
   "cell_type": "code",
   "execution_count": 90,
   "id": "d7bdb25b",
   "metadata": {},
   "outputs": [],
   "source": [
    "start = '2022-11-14'\n",
    "end = '2022-11-19'\n",
    "price = price[[\"time\",\"close\"]]\n",
    "price[\"time\"] = pd.to_datetime(price[\"time\"]) #datetime64[ns]\n",
    "price[\"time\"] = price[\"time\"].dt.tz_localize(tz='US/Eastern')"
   ]
  },
  {
   "cell_type": "code",
   "execution_count": 91,
   "id": "4863d61d",
   "metadata": {},
   "outputs": [],
   "source": [
    "price = price[(price['time']>=start) & (price['time']<=end)]\n",
    "price.set_index(\"time\", inplace=True)"
   ]
  },
  {
   "cell_type": "code",
   "execution_count": 92,
   "id": "f0aa63c9",
   "metadata": {},
   "outputs": [],
   "source": [
    "price_agg = price.resample('5T').last().ffill()\n",
    "# price_agg = price.resample('10T').last().ffill()\n",
    "price_agg = price_agg.shift(1)\n",
    "price_agg = price_agg.iloc[1: , :]\n",
    "price_agg = price_agg.between_time(\"9:00am\",\"4:00pm\") #filter results between normal market hours only\n",
    "price_agg.reset_index(inplace=True)"
   ]
  },
  {
   "cell_type": "code",
   "execution_count": 93,
   "id": "45cbc3e0",
   "metadata": {},
   "outputs": [
    {
     "data": {
      "text/html": [
       "<div>\n",
       "<style scoped>\n",
       "    .dataframe tbody tr th:only-of-type {\n",
       "        vertical-align: middle;\n",
       "    }\n",
       "\n",
       "    .dataframe tbody tr th {\n",
       "        vertical-align: top;\n",
       "    }\n",
       "\n",
       "    .dataframe thead th {\n",
       "        text-align: right;\n",
       "    }\n",
       "</style>\n",
       "<table border=\"1\" class=\"dataframe\">\n",
       "  <thead>\n",
       "    <tr style=\"text-align: right;\">\n",
       "      <th></th>\n",
       "      <th>time</th>\n",
       "      <th>close</th>\n",
       "    </tr>\n",
       "  </thead>\n",
       "  <tbody>\n",
       "    <tr>\n",
       "      <th>0</th>\n",
       "      <td>2022-11-14 09:00:00-05:00</td>\n",
       "      <td>162.311635</td>\n",
       "    </tr>\n",
       "    <tr>\n",
       "      <th>1</th>\n",
       "      <td>2022-11-14 09:05:00-05:00</td>\n",
       "      <td>162.571674</td>\n",
       "    </tr>\n",
       "    <tr>\n",
       "      <th>2</th>\n",
       "      <td>2022-11-14 09:10:00-05:00</td>\n",
       "      <td>162.861605</td>\n",
       "    </tr>\n",
       "    <tr>\n",
       "      <th>3</th>\n",
       "      <td>2022-11-14 09:15:00-05:00</td>\n",
       "      <td>162.791522</td>\n",
       "    </tr>\n",
       "    <tr>\n",
       "      <th>4</th>\n",
       "      <td>2022-11-14 09:20:00-05:00</td>\n",
       "      <td>162.571674</td>\n",
       "    </tr>\n",
       "    <tr>\n",
       "      <th>...</th>\n",
       "      <td>...</td>\n",
       "      <td>...</td>\n",
       "    </tr>\n",
       "    <tr>\n",
       "      <th>420</th>\n",
       "      <td>2022-11-18 15:40:00-05:00</td>\n",
       "      <td>153.985103</td>\n",
       "    </tr>\n",
       "    <tr>\n",
       "      <th>421</th>\n",
       "      <td>2022-11-18 15:45:00-05:00</td>\n",
       "      <td>154.253740</td>\n",
       "    </tr>\n",
       "    <tr>\n",
       "      <th>422</th>\n",
       "      <td>2022-11-18 15:50:00-05:00</td>\n",
       "      <td>154.388508</td>\n",
       "    </tr>\n",
       "    <tr>\n",
       "      <th>423</th>\n",
       "      <td>2022-11-18 15:55:00-05:00</td>\n",
       "      <td>154.008598</td>\n",
       "    </tr>\n",
       "    <tr>\n",
       "      <th>424</th>\n",
       "      <td>2022-11-18 16:00:00-05:00</td>\n",
       "      <td>153.983604</td>\n",
       "    </tr>\n",
       "  </tbody>\n",
       "</table>\n",
       "<p>425 rows × 2 columns</p>\n",
       "</div>"
      ],
      "text/plain": [
       "                         time       close\n",
       "0   2022-11-14 09:00:00-05:00  162.311635\n",
       "1   2022-11-14 09:05:00-05:00  162.571674\n",
       "2   2022-11-14 09:10:00-05:00  162.861605\n",
       "3   2022-11-14 09:15:00-05:00  162.791522\n",
       "4   2022-11-14 09:20:00-05:00  162.571674\n",
       "..                        ...         ...\n",
       "420 2022-11-18 15:40:00-05:00  153.985103\n",
       "421 2022-11-18 15:45:00-05:00  154.253740\n",
       "422 2022-11-18 15:50:00-05:00  154.388508\n",
       "423 2022-11-18 15:55:00-05:00  154.008598\n",
       "424 2022-11-18 16:00:00-05:00  153.983604\n",
       "\n",
       "[425 rows x 2 columns]"
      ]
     },
     "execution_count": 93,
     "metadata": {},
     "output_type": "execute_result"
    }
   ],
   "source": [
    "price_agg"
   ]
  },
  {
   "cell_type": "code",
   "execution_count": 94,
   "id": "07688236",
   "metadata": {},
   "outputs": [],
   "source": [
    "master = pd.merge(price_agg, sentiment_agg, how='left', on=['time'])"
   ]
  },
  {
   "cell_type": "code",
   "execution_count": 95,
   "id": "f9407a23",
   "metadata": {},
   "outputs": [],
   "source": [
    "master[\"close_after_5min\"] = master[\"close\"].shift(-1)\n",
    "master[\"close_before_5min\"] = master[\"close\"].shift(1)\n",
    "master[\"5min_ret\"] = master[\"close_after_5min\"] / master[\"close\"] - 1\n",
    "master[\"past_5min_mom\"] = master[\"close\"] / master[\"close_before_5min\"] - 1\n",
    "master[\"net\"] = master[\"Positive_agg\"] - master[\"Negative_agg\"]"
   ]
  },
  {
   "cell_type": "code",
   "execution_count": 96,
   "id": "51bd857c",
   "metadata": {},
   "outputs": [],
   "source": [
    "# remove the first and last row of each day, because 5-min future/past return cannot span across 2 days\n",
    "master = master.resample('D',on='time').apply(lambda x: x.iloc[1:-1]).reset_index(drop=True)"
   ]
  },
  {
   "cell_type": "code",
   "execution_count": 98,
   "id": "aadc9e05",
   "metadata": {},
   "outputs": [
    {
     "data": {
      "text/html": [
       "<div>\n",
       "<style scoped>\n",
       "    .dataframe tbody tr th:only-of-type {\n",
       "        vertical-align: middle;\n",
       "    }\n",
       "\n",
       "    .dataframe tbody tr th {\n",
       "        vertical-align: top;\n",
       "    }\n",
       "\n",
       "    .dataframe thead th {\n",
       "        text-align: right;\n",
       "    }\n",
       "</style>\n",
       "<table border=\"1\" class=\"dataframe\">\n",
       "  <thead>\n",
       "    <tr style=\"text-align: right;\">\n",
       "      <th></th>\n",
       "      <th>time</th>\n",
       "      <th>close</th>\n",
       "      <th>created_at</th>\n",
       "      <th>Positive_agg</th>\n",
       "      <th>Neutral_agg</th>\n",
       "      <th>Negative_agg</th>\n",
       "      <th>close_after_5min</th>\n",
       "      <th>close_before_5min</th>\n",
       "      <th>5min_ret</th>\n",
       "      <th>past_5min_mom</th>\n",
       "      <th>net</th>\n",
       "    </tr>\n",
       "  </thead>\n",
       "  <tbody>\n",
       "    <tr>\n",
       "      <th>0</th>\n",
       "      <td>2022-11-14 09:05:00-05:00</td>\n",
       "      <td>162.571674</td>\n",
       "      <td>2022-11-14 14:05:00+00:00</td>\n",
       "      <td>0.374252</td>\n",
       "      <td>0.607352</td>\n",
       "      <td>0.018396</td>\n",
       "      <td>162.861605</td>\n",
       "      <td>162.311635</td>\n",
       "      <td>0.001783</td>\n",
       "      <td>0.001602</td>\n",
       "      <td>0.355856</td>\n",
       "    </tr>\n",
       "    <tr>\n",
       "      <th>1</th>\n",
       "      <td>2022-11-14 09:10:00-05:00</td>\n",
       "      <td>162.861605</td>\n",
       "      <td>2022-11-14 14:10:00+00:00</td>\n",
       "      <td>0.275567</td>\n",
       "      <td>0.674911</td>\n",
       "      <td>0.049522</td>\n",
       "      <td>162.791522</td>\n",
       "      <td>162.571674</td>\n",
       "      <td>-0.000430</td>\n",
       "      <td>0.001783</td>\n",
       "      <td>0.226046</td>\n",
       "    </tr>\n",
       "    <tr>\n",
       "      <th>2</th>\n",
       "      <td>2022-11-14 09:15:00-05:00</td>\n",
       "      <td>162.791522</td>\n",
       "      <td>2022-11-14 14:15:00+00:00</td>\n",
       "      <td>0.260977</td>\n",
       "      <td>0.715205</td>\n",
       "      <td>0.023818</td>\n",
       "      <td>162.571674</td>\n",
       "      <td>162.861605</td>\n",
       "      <td>-0.001350</td>\n",
       "      <td>-0.000430</td>\n",
       "      <td>0.237159</td>\n",
       "    </tr>\n",
       "    <tr>\n",
       "      <th>3</th>\n",
       "      <td>2022-11-14 09:20:00-05:00</td>\n",
       "      <td>162.571674</td>\n",
       "      <td>2022-11-14 14:20:00+00:00</td>\n",
       "      <td>0.570406</td>\n",
       "      <td>0.423113</td>\n",
       "      <td>0.006481</td>\n",
       "      <td>162.291740</td>\n",
       "      <td>162.791522</td>\n",
       "      <td>-0.001722</td>\n",
       "      <td>-0.001350</td>\n",
       "      <td>0.563925</td>\n",
       "    </tr>\n",
       "    <tr>\n",
       "      <th>4</th>\n",
       "      <td>2022-11-14 09:25:00-05:00</td>\n",
       "      <td>162.291740</td>\n",
       "      <td>2022-11-14 14:25:00+00:00</td>\n",
       "      <td>0.020967</td>\n",
       "      <td>0.542269</td>\n",
       "      <td>0.436764</td>\n",
       "      <td>162.081690</td>\n",
       "      <td>162.571674</td>\n",
       "      <td>-0.001294</td>\n",
       "      <td>-0.001722</td>\n",
       "      <td>-0.415797</td>\n",
       "    </tr>\n",
       "    <tr>\n",
       "      <th>...</th>\n",
       "      <td>...</td>\n",
       "      <td>...</td>\n",
       "      <td>...</td>\n",
       "      <td>...</td>\n",
       "      <td>...</td>\n",
       "      <td>...</td>\n",
       "      <td>...</td>\n",
       "      <td>...</td>\n",
       "      <td>...</td>\n",
       "      <td>...</td>\n",
       "      <td>...</td>\n",
       "    </tr>\n",
       "    <tr>\n",
       "      <th>410</th>\n",
       "      <td>2022-11-18 15:35:00-05:00</td>\n",
       "      <td>154.026694</td>\n",
       "      <td>2022-11-18 20:35:00+00:00</td>\n",
       "      <td>0.059612</td>\n",
       "      <td>0.923412</td>\n",
       "      <td>0.016976</td>\n",
       "      <td>153.985103</td>\n",
       "      <td>153.753658</td>\n",
       "      <td>-0.000270</td>\n",
       "      <td>0.001776</td>\n",
       "      <td>0.042637</td>\n",
       "    </tr>\n",
       "    <tr>\n",
       "      <th>411</th>\n",
       "      <td>2022-11-18 15:40:00-05:00</td>\n",
       "      <td>153.985103</td>\n",
       "      <td>2022-11-18 20:40:00+00:00</td>\n",
       "      <td>0.272722</td>\n",
       "      <td>0.722330</td>\n",
       "      <td>0.004948</td>\n",
       "      <td>154.253740</td>\n",
       "      <td>154.026694</td>\n",
       "      <td>0.001745</td>\n",
       "      <td>-0.000270</td>\n",
       "      <td>0.267774</td>\n",
       "    </tr>\n",
       "    <tr>\n",
       "      <th>412</th>\n",
       "      <td>2022-11-18 15:45:00-05:00</td>\n",
       "      <td>154.253740</td>\n",
       "      <td>2022-11-18 20:45:00+00:00</td>\n",
       "      <td>0.774266</td>\n",
       "      <td>0.221688</td>\n",
       "      <td>0.004045</td>\n",
       "      <td>154.388508</td>\n",
       "      <td>153.985103</td>\n",
       "      <td>0.000874</td>\n",
       "      <td>0.001745</td>\n",
       "      <td>0.770221</td>\n",
       "    </tr>\n",
       "    <tr>\n",
       "      <th>413</th>\n",
       "      <td>2022-11-18 15:50:00-05:00</td>\n",
       "      <td>154.388508</td>\n",
       "      <td>2022-11-18 20:50:00+00:00</td>\n",
       "      <td>0.111560</td>\n",
       "      <td>0.868629</td>\n",
       "      <td>0.019811</td>\n",
       "      <td>154.008598</td>\n",
       "      <td>154.253740</td>\n",
       "      <td>-0.002461</td>\n",
       "      <td>0.000874</td>\n",
       "      <td>0.091749</td>\n",
       "    </tr>\n",
       "    <tr>\n",
       "      <th>414</th>\n",
       "      <td>2022-11-18 15:55:00-05:00</td>\n",
       "      <td>154.008598</td>\n",
       "      <td>2022-11-18 20:55:00+00:00</td>\n",
       "      <td>0.339755</td>\n",
       "      <td>0.614763</td>\n",
       "      <td>0.045481</td>\n",
       "      <td>153.983604</td>\n",
       "      <td>154.388508</td>\n",
       "      <td>-0.000162</td>\n",
       "      <td>-0.002461</td>\n",
       "      <td>0.294274</td>\n",
       "    </tr>\n",
       "  </tbody>\n",
       "</table>\n",
       "<p>415 rows × 11 columns</p>\n",
       "</div>"
      ],
      "text/plain": [
       "                         time       close                created_at  \\\n",
       "0   2022-11-14 09:05:00-05:00  162.571674 2022-11-14 14:05:00+00:00   \n",
       "1   2022-11-14 09:10:00-05:00  162.861605 2022-11-14 14:10:00+00:00   \n",
       "2   2022-11-14 09:15:00-05:00  162.791522 2022-11-14 14:15:00+00:00   \n",
       "3   2022-11-14 09:20:00-05:00  162.571674 2022-11-14 14:20:00+00:00   \n",
       "4   2022-11-14 09:25:00-05:00  162.291740 2022-11-14 14:25:00+00:00   \n",
       "..                        ...         ...                       ...   \n",
       "410 2022-11-18 15:35:00-05:00  154.026694 2022-11-18 20:35:00+00:00   \n",
       "411 2022-11-18 15:40:00-05:00  153.985103 2022-11-18 20:40:00+00:00   \n",
       "412 2022-11-18 15:45:00-05:00  154.253740 2022-11-18 20:45:00+00:00   \n",
       "413 2022-11-18 15:50:00-05:00  154.388508 2022-11-18 20:50:00+00:00   \n",
       "414 2022-11-18 15:55:00-05:00  154.008598 2022-11-18 20:55:00+00:00   \n",
       "\n",
       "     Positive_agg  Neutral_agg  Negative_agg  close_after_5min  \\\n",
       "0        0.374252     0.607352      0.018396        162.861605   \n",
       "1        0.275567     0.674911      0.049522        162.791522   \n",
       "2        0.260977     0.715205      0.023818        162.571674   \n",
       "3        0.570406     0.423113      0.006481        162.291740   \n",
       "4        0.020967     0.542269      0.436764        162.081690   \n",
       "..            ...          ...           ...               ...   \n",
       "410      0.059612     0.923412      0.016976        153.985103   \n",
       "411      0.272722     0.722330      0.004948        154.253740   \n",
       "412      0.774266     0.221688      0.004045        154.388508   \n",
       "413      0.111560     0.868629      0.019811        154.008598   \n",
       "414      0.339755     0.614763      0.045481        153.983604   \n",
       "\n",
       "     close_before_5min  5min_ret  past_5min_mom       net  \n",
       "0           162.311635  0.001783       0.001602  0.355856  \n",
       "1           162.571674 -0.000430       0.001783  0.226046  \n",
       "2           162.861605 -0.001350      -0.000430  0.237159  \n",
       "3           162.791522 -0.001722      -0.001350  0.563925  \n",
       "4           162.571674 -0.001294      -0.001722 -0.415797  \n",
       "..                 ...       ...            ...       ...  \n",
       "410         153.753658 -0.000270       0.001776  0.042637  \n",
       "411         154.026694  0.001745      -0.000270  0.267774  \n",
       "412         153.985103  0.000874       0.001745  0.770221  \n",
       "413         154.253740 -0.002461       0.000874  0.091749  \n",
       "414         154.388508 -0.000162      -0.002461  0.294274  \n",
       "\n",
       "[415 rows x 11 columns]"
      ]
     },
     "execution_count": 98,
     "metadata": {},
     "output_type": "execute_result"
    }
   ],
   "source": [
    "master"
   ]
  },
  {
   "cell_type": "markdown",
   "id": "4dadf23f",
   "metadata": {},
   "source": [
    "### Check the distribution of different features"
   ]
  },
  {
   "cell_type": "code",
   "execution_count": 99,
   "id": "c93a9438",
   "metadata": {},
   "outputs": [
    {
     "data": {
      "text/plain": [
       "<AxesSubplot:>"
      ]
     },
     "execution_count": 99,
     "metadata": {},
     "output_type": "execute_result"
    },
    {
     "data": {
      "image/png": "[encoded data removed]",
      "text/plain": [
       "<Figure size 432x288 with 1 Axes>"
      ]
     },
     "metadata": {
      "needs_background": "light"
     },
     "output_type": "display_data"
    }
   ],
   "source": [
    "master[\"Positive_agg\"].hist()"
   ]
  },
  {
   "cell_type": "code",
   "execution_count": 100,
   "id": "2e5093a8",
   "metadata": {},
   "outputs": [
    {
     "data": {
      "text/plain": [
       "<AxesSubplot:>"
      ]
     },
     "execution_count": 100,
     "metadata": {},
     "output_type": "execute_result"
    },
    {
     "data": {
      "image/png": "[encoded data removed]",
      "text/plain": [
       "<Figure size 432x288 with 1 Axes>"
      ]
     },
     "metadata": {
      "needs_background": "light"
     },
     "output_type": "display_data"
    }
   ],
   "source": [
    "master[\"Negative_agg\"].hist()"
   ]
  },
  {
   "cell_type": "code",
   "execution_count": 101,
   "id": "aa4d8f0d",
   "metadata": {},
   "outputs": [
    {
     "data": {
      "text/plain": [
       "<AxesSubplot:>"
      ]
     },
     "execution_count": 101,
     "metadata": {},
     "output_type": "execute_result"
    },
    {
     "data": {
      "image/png": "[encoded data removed]",
      "text/plain": [
       "<Figure size 432x288 with 1 Axes>"
      ]
     },
     "metadata": {
      "needs_background": "light"
     },
     "output_type": "display_data"
    }
   ],
   "source": [
    "master[\"Neutral_agg\"].hist()"
   ]
  },
  {
   "cell_type": "code",
   "execution_count": 103,
   "id": "f0e22b05",
   "metadata": {},
   "outputs": [
    {
     "data": {
      "text/plain": [
       "<AxesSubplot:>"
      ]
     },
     "execution_count": 103,
     "metadata": {},
     "output_type": "execute_result"
    },
    {
     "data": {
      "image/png": "[encoded data removed]",
      "text/plain": [
       "<Figure size 432x288 with 1 Axes>"
      ]
     },
     "metadata": {
      "needs_background": "light"
     },
     "output_type": "display_data"
    }
   ],
   "source": [
    "master[\"past_5min_mom\"].hist()\n"
   ]
  },
  {
   "cell_type": "markdown",
   "id": "c74d8f4a",
   "metadata": {},
   "source": [
    "### System level testing\n",
    "Using predefined positive / negative words\n",
    "https://www.cs.uic.edu/~liub/FBS/sentiment-analysis.html#lexicon"
   ]
  },
  {
   "cell_type": "code",
   "execution_count": 38,
   "id": "5c833adc",
   "metadata": {},
   "outputs": [],
   "source": [
    "# opening the file in read mode\n",
    "my_file = open(\"opinion-lexicon-English/positive-words.txt\", \"r\")\n",
    "  \n",
    "# reading the file\n",
    "data = my_file.read()\n",
    "  \n",
    "# Split with new line \\n\n",
    "pos_words = data.split(\"\\n\")[:-1]\n",
    "\n",
    "my_file.close()"
   ]
  },
  {
   "cell_type": "code",
   "execution_count": 44,
   "id": "8162c869",
   "metadata": {},
   "outputs": [],
   "source": [
    "# opening the file in read mode\n",
    "my_file2 = open(\"opinion-lexicon-English/negative-words.txt\", \"r\", encoding=\"ISO-8859-1\")\n",
    "  \n",
    "# reading the file\n",
    "data2 = my_file2.read()\n",
    "  \n",
    "# Split with new line \\n\n",
    "neg_words = data2.split(\"\\n\")[:-1]\n",
    "\n",
    "my_file2.close()"
   ]
  },
  {
   "cell_type": "code",
   "execution_count": 60,
   "id": "15008126",
   "metadata": {},
   "outputs": [],
   "source": [
    "r = random.Random(500)"
   ]
  },
  {
   "cell_type": "code",
   "execution_count": 62,
   "id": "68a0a09d",
   "metadata": {},
   "outputs": [
    {
     "data": {
      "text/plain": [
       "'smoothest'"
      ]
     },
     "execution_count": 62,
     "metadata": {},
     "output_type": "execute_result"
    }
   ],
   "source": [
    "r.choice(pos_words)"
   ]
  },
  {
   "cell_type": "code",
   "execution_count": 65,
   "id": "d1727c93",
   "metadata": {},
   "outputs": [],
   "source": [
    "master[\"manual_word\"] = master[\"5min_ret\"].apply(lambda x: random.choice(pos_words) if x>0 else random.choice(neg_words))"
   ]
  },
  {
   "cell_type": "code",
   "execution_count": 72,
   "id": "fa8dac33",
   "metadata": {},
   "outputs": [
    {
     "data": {
      "text/html": [
       "<div>\n",
       "<style scoped>\n",
       "    .dataframe tbody tr th:only-of-type {\n",
       "        vertical-align: middle;\n",
       "    }\n",
       "\n",
       "    .dataframe tbody tr th {\n",
       "        vertical-align: top;\n",
       "    }\n",
       "\n",
       "    .dataframe thead th {\n",
       "        text-align: right;\n",
       "    }\n",
       "</style>\n",
       "<table border=\"1\" class=\"dataframe\">\n",
       "  <thead>\n",
       "    <tr style=\"text-align: right;\">\n",
       "      <th></th>\n",
       "      <th>time</th>\n",
       "      <th>close</th>\n",
       "      <th>created_at</th>\n",
       "      <th>Positive_agg</th>\n",
       "      <th>Neutral_agg</th>\n",
       "      <th>Negative_agg</th>\n",
       "      <th>close_after_5min</th>\n",
       "      <th>close_before_5min</th>\n",
       "      <th>5min_ret</th>\n",
       "      <th>past_5min_mom</th>\n",
       "      <th>net</th>\n",
       "      <th>manual_word</th>\n",
       "      <th>Unnamed: 0</th>\n",
       "      <th>Positive</th>\n",
       "      <th>Neutral</th>\n",
       "      <th>Negative</th>\n",
       "    </tr>\n",
       "  </thead>\n",
       "  <tbody>\n",
       "    <tr>\n",
       "      <th>0</th>\n",
       "      <td>2022-11-14 09:05:00-05:00</td>\n",
       "      <td>26.5200</td>\n",
       "      <td>2022-11-14 14:05:00+00:00</td>\n",
       "      <td>0.400236</td>\n",
       "      <td>0.373861</td>\n",
       "      <td>0.225903</td>\n",
       "      <td>26.6000</td>\n",
       "      <td>26.5100</td>\n",
       "      <td>0.003017</td>\n",
       "      <td>0.000377</td>\n",
       "      <td>0.174333</td>\n",
       "      <td>statuesque</td>\n",
       "      <td>0</td>\n",
       "      <td>0.112635</td>\n",
       "      <td>0.844384</td>\n",
       "      <td>0.042981</td>\n",
       "    </tr>\n",
       "    <tr>\n",
       "      <th>1</th>\n",
       "      <td>2022-11-14 09:10:00-05:00</td>\n",
       "      <td>26.6000</td>\n",
       "      <td>2022-11-14 14:10:00+00:00</td>\n",
       "      <td>0.327199</td>\n",
       "      <td>0.439434</td>\n",
       "      <td>0.233367</td>\n",
       "      <td>26.3501</td>\n",
       "      <td>26.5200</td>\n",
       "      <td>-0.009395</td>\n",
       "      <td>0.003017</td>\n",
       "      <td>0.093832</td>\n",
       "      <td>scoff</td>\n",
       "      <td>1</td>\n",
       "      <td>0.294564</td>\n",
       "      <td>0.599051</td>\n",
       "      <td>0.106386</td>\n",
       "    </tr>\n",
       "    <tr>\n",
       "      <th>2</th>\n",
       "      <td>2022-11-14 09:15:00-05:00</td>\n",
       "      <td>26.3501</td>\n",
       "      <td>2022-11-14 14:15:00+00:00</td>\n",
       "      <td>0.445477</td>\n",
       "      <td>0.358849</td>\n",
       "      <td>0.195674</td>\n",
       "      <td>26.5000</td>\n",
       "      <td>26.6000</td>\n",
       "      <td>0.005689</td>\n",
       "      <td>-0.009395</td>\n",
       "      <td>0.249804</td>\n",
       "      <td>facilitate</td>\n",
       "      <td>2</td>\n",
       "      <td>0.152204</td>\n",
       "      <td>0.721776</td>\n",
       "      <td>0.126020</td>\n",
       "    </tr>\n",
       "    <tr>\n",
       "      <th>3</th>\n",
       "      <td>2022-11-14 09:20:00-05:00</td>\n",
       "      <td>26.5000</td>\n",
       "      <td>2022-11-14 14:20:00+00:00</td>\n",
       "      <td>0.349964</td>\n",
       "      <td>0.366439</td>\n",
       "      <td>0.283597</td>\n",
       "      <td>26.4100</td>\n",
       "      <td>26.3501</td>\n",
       "      <td>-0.003396</td>\n",
       "      <td>0.005689</td>\n",
       "      <td>0.066366</td>\n",
       "      <td>fumes</td>\n",
       "      <td>3</td>\n",
       "      <td>0.215004</td>\n",
       "      <td>0.683941</td>\n",
       "      <td>0.101054</td>\n",
       "    </tr>\n",
       "    <tr>\n",
       "      <th>4</th>\n",
       "      <td>2022-11-14 09:25:00-05:00</td>\n",
       "      <td>26.4100</td>\n",
       "      <td>2022-11-14 14:25:00+00:00</td>\n",
       "      <td>0.371188</td>\n",
       "      <td>0.346429</td>\n",
       "      <td>0.282383</td>\n",
       "      <td>26.3500</td>\n",
       "      <td>26.5000</td>\n",
       "      <td>-0.002272</td>\n",
       "      <td>-0.003396</td>\n",
       "      <td>0.088806</td>\n",
       "      <td>melodramatically</td>\n",
       "      <td>4</td>\n",
       "      <td>0.258963</td>\n",
       "      <td>0.671580</td>\n",
       "      <td>0.069457</td>\n",
       "    </tr>\n",
       "    <tr>\n",
       "      <th>...</th>\n",
       "      <td>...</td>\n",
       "      <td>...</td>\n",
       "      <td>...</td>\n",
       "      <td>...</td>\n",
       "      <td>...</td>\n",
       "      <td>...</td>\n",
       "      <td>...</td>\n",
       "      <td>...</td>\n",
       "      <td>...</td>\n",
       "      <td>...</td>\n",
       "      <td>...</td>\n",
       "      <td>...</td>\n",
       "      <td>...</td>\n",
       "      <td>...</td>\n",
       "      <td>...</td>\n",
       "      <td>...</td>\n",
       "    </tr>\n",
       "    <tr>\n",
       "      <th>410</th>\n",
       "      <td>2022-11-18 15:35:00-05:00</td>\n",
       "      <td>27.4997</td>\n",
       "      <td>2022-11-18 20:35:00+00:00</td>\n",
       "      <td>0.250721</td>\n",
       "      <td>0.587951</td>\n",
       "      <td>0.161328</td>\n",
       "      <td>27.4599</td>\n",
       "      <td>27.4800</td>\n",
       "      <td>-0.001447</td>\n",
       "      <td>0.000717</td>\n",
       "      <td>0.089393</td>\n",
       "      <td>indifferent</td>\n",
       "      <td>410</td>\n",
       "      <td>0.145792</td>\n",
       "      <td>0.680062</td>\n",
       "      <td>0.174145</td>\n",
       "    </tr>\n",
       "    <tr>\n",
       "      <th>411</th>\n",
       "      <td>2022-11-18 15:40:00-05:00</td>\n",
       "      <td>27.4599</td>\n",
       "      <td>2022-11-18 20:40:00+00:00</td>\n",
       "      <td>0.339184</td>\n",
       "      <td>0.528247</td>\n",
       "      <td>0.132569</td>\n",
       "      <td>27.5100</td>\n",
       "      <td>27.4997</td>\n",
       "      <td>0.001824</td>\n",
       "      <td>-0.001447</td>\n",
       "      <td>0.206615</td>\n",
       "      <td>excels</td>\n",
       "      <td>411</td>\n",
       "      <td>0.103495</td>\n",
       "      <td>0.760180</td>\n",
       "      <td>0.136324</td>\n",
       "    </tr>\n",
       "    <tr>\n",
       "      <th>412</th>\n",
       "      <td>2022-11-18 15:45:00-05:00</td>\n",
       "      <td>27.5100</td>\n",
       "      <td>2022-11-18 20:45:00+00:00</td>\n",
       "      <td>0.278470</td>\n",
       "      <td>0.583988</td>\n",
       "      <td>0.137541</td>\n",
       "      <td>27.5200</td>\n",
       "      <td>27.4599</td>\n",
       "      <td>0.000364</td>\n",
       "      <td>0.001824</td>\n",
       "      <td>0.140929</td>\n",
       "      <td>cheery</td>\n",
       "      <td>412</td>\n",
       "      <td>0.341472</td>\n",
       "      <td>0.523709</td>\n",
       "      <td>0.134819</td>\n",
       "    </tr>\n",
       "    <tr>\n",
       "      <th>413</th>\n",
       "      <td>2022-11-18 15:50:00-05:00</td>\n",
       "      <td>27.5200</td>\n",
       "      <td>2022-11-18 20:50:00+00:00</td>\n",
       "      <td>0.296702</td>\n",
       "      <td>0.461135</td>\n",
       "      <td>0.242163</td>\n",
       "      <td>27.4999</td>\n",
       "      <td>27.5100</td>\n",
       "      <td>-0.000730</td>\n",
       "      <td>0.000364</td>\n",
       "      <td>0.054539</td>\n",
       "      <td>discomfort</td>\n",
       "      <td>413</td>\n",
       "      <td>0.057144</td>\n",
       "      <td>0.426788</td>\n",
       "      <td>0.516068</td>\n",
       "    </tr>\n",
       "    <tr>\n",
       "      <th>414</th>\n",
       "      <td>2022-11-18 15:55:00-05:00</td>\n",
       "      <td>27.4999</td>\n",
       "      <td>2022-11-18 20:55:00+00:00</td>\n",
       "      <td>0.235614</td>\n",
       "      <td>0.463659</td>\n",
       "      <td>0.300728</td>\n",
       "      <td>27.5700</td>\n",
       "      <td>27.5200</td>\n",
       "      <td>0.002549</td>\n",
       "      <td>-0.000730</td>\n",
       "      <td>-0.065114</td>\n",
       "      <td>magic</td>\n",
       "      <td>414</td>\n",
       "      <td>0.621681</td>\n",
       "      <td>0.331167</td>\n",
       "      <td>0.047152</td>\n",
       "    </tr>\n",
       "  </tbody>\n",
       "</table>\n",
       "<p>415 rows × 16 columns</p>\n",
       "</div>"
      ],
      "text/plain": [
       "                         time    close                created_at  \\\n",
       "0   2022-11-14 09:05:00-05:00  26.5200 2022-11-14 14:05:00+00:00   \n",
       "1   2022-11-14 09:10:00-05:00  26.6000 2022-11-14 14:10:00+00:00   \n",
       "2   2022-11-14 09:15:00-05:00  26.3501 2022-11-14 14:15:00+00:00   \n",
       "3   2022-11-14 09:20:00-05:00  26.5000 2022-11-14 14:20:00+00:00   \n",
       "4   2022-11-14 09:25:00-05:00  26.4100 2022-11-14 14:25:00+00:00   \n",
       "..                        ...      ...                       ...   \n",
       "410 2022-11-18 15:35:00-05:00  27.4997 2022-11-18 20:35:00+00:00   \n",
       "411 2022-11-18 15:40:00-05:00  27.4599 2022-11-18 20:40:00+00:00   \n",
       "412 2022-11-18 15:45:00-05:00  27.5100 2022-11-18 20:45:00+00:00   \n",
       "413 2022-11-18 15:50:00-05:00  27.5200 2022-11-18 20:50:00+00:00   \n",
       "414 2022-11-18 15:55:00-05:00  27.4999 2022-11-18 20:55:00+00:00   \n",
       "\n",
       "     Positive_agg  Neutral_agg  Negative_agg  close_after_5min  \\\n",
       "0        0.400236     0.373861      0.225903           26.6000   \n",
       "1        0.327199     0.439434      0.233367           26.3501   \n",
       "2        0.445477     0.358849      0.195674           26.5000   \n",
       "3        0.349964     0.366439      0.283597           26.4100   \n",
       "4        0.371188     0.346429      0.282383           26.3500   \n",
       "..            ...          ...           ...               ...   \n",
       "410      0.250721     0.587951      0.161328           27.4599   \n",
       "411      0.339184     0.528247      0.132569           27.5100   \n",
       "412      0.278470     0.583988      0.137541           27.5200   \n",
       "413      0.296702     0.461135      0.242163           27.4999   \n",
       "414      0.235614     0.463659      0.300728           27.5700   \n",
       "\n",
       "     close_before_5min  5min_ret  past_5min_mom       net       manual_word  \\\n",
       "0              26.5100  0.003017       0.000377  0.174333        statuesque   \n",
       "1              26.5200 -0.009395       0.003017  0.093832             scoff   \n",
       "2              26.6000  0.005689      -0.009395  0.249804        facilitate   \n",
       "3              26.3501 -0.003396       0.005689  0.066366             fumes   \n",
       "4              26.5000 -0.002272      -0.003396  0.088806  melodramatically   \n",
       "..                 ...       ...            ...       ...               ...   \n",
       "410            27.4800 -0.001447       0.000717  0.089393       indifferent   \n",
       "411            27.4997  0.001824      -0.001447  0.206615            excels   \n",
       "412            27.4599  0.000364       0.001824  0.140929            cheery   \n",
       "413            27.5100 -0.000730       0.000364  0.054539        discomfort   \n",
       "414            27.5200  0.002549      -0.000730 -0.065114             magic   \n",
       "\n",
       "     Unnamed: 0  Positive   Neutral  Negative  \n",
       "0             0  0.112635  0.844384  0.042981  \n",
       "1             1  0.294564  0.599051  0.106386  \n",
       "2             2  0.152204  0.721776  0.126020  \n",
       "3             3  0.215004  0.683941  0.101054  \n",
       "4             4  0.258963  0.671580  0.069457  \n",
       "..          ...       ...       ...       ...  \n",
       "410         410  0.145792  0.680062  0.174145  \n",
       "411         411  0.103495  0.760180  0.136324  \n",
       "412         412  0.341472  0.523709  0.134819  \n",
       "413         413  0.057144  0.426788  0.516068  \n",
       "414         414  0.621681  0.331167  0.047152  \n",
       "\n",
       "[415 rows x 16 columns]"
      ]
     },
     "execution_count": 72,
     "metadata": {},
     "output_type": "execute_result"
    }
   ],
   "source": [
    "master"
   ]
  },
  {
   "cell_type": "code",
   "execution_count": 69,
   "id": "accf2206",
   "metadata": {},
   "outputs": [],
   "source": [
    "manual_word_scores = pd.read_csv(\"system_test_sent.csv\")"
   ]
  },
  {
   "cell_type": "code",
   "execution_count": 71,
   "id": "866956b6",
   "metadata": {},
   "outputs": [],
   "source": [
    "master = pd.concat([master, manual_word_scores], axis=1)"
   ]
  },
  {
   "cell_type": "markdown",
   "id": "56b20c57",
   "metadata": {},
   "source": [
    "## ANFIS"
   ]
  },
  {
   "cell_type": "code",
   "execution_count": 23,
   "id": "a6ca257d",
   "metadata": {},
   "outputs": [],
   "source": [
    "import anfis\n",
    "import membership.mfDerivs\n",
    "import membership.membershipfunction"
   ]
  },
  {
   "cell_type": "code",
   "execution_count": 59,
   "id": "2f602b71",
   "metadata": {},
   "outputs": [],
   "source": [
    "X = master[[\"Positive_agg\",\"Negative_agg\",\"past_5min_mom\"]].values\n",
    "# X = master[[\"Positive\",\"Negative\",\"past_5min_mom\"]].values\n",
    "Y = master[\"5min_ret\"].values\n",
    "\n",
    "# X_train = X\n",
    "# X_test = X\n",
    "# y_train = Y\n",
    "# y_test = Y\n",
    "X_train, X_test, y_train, y_test = train_test_split(X, Y, test_size=0.2)\n",
    "\n",
    "# X = master[[\"Positive_agg\",\"Negative_agg\",\"past_10min_mom\"]].values\n",
    "# Y = master[\"10min_ret\"].values"
   ]
  },
  {
   "cell_type": "code",
   "execution_count": 60,
   "id": "468d71c0",
   "metadata": {},
   "outputs": [],
   "source": [
    "mf = [[['gaussmf',{'mean':1,'sigma':1}],['gaussmf',{'mean':0,'sigma':1}]],\n",
    "      [['gaussmf',{'mean':1,'sigma':1}],['gaussmf',{'mean':0,'sigma':1}]],\n",
    "      [['gaussmf',{'mean':1,'sigma':1}],['gaussmf',{'mean':-1,'sigma':1}]]]"
   ]
  },
  {
   "cell_type": "code",
   "execution_count": 61,
   "id": "ed53691b",
   "metadata": {},
   "outputs": [],
   "source": [
    "# mf = [[['gaussmf',{'mean':0.4,'sigma':0.1}],['gaussmf',{'mean':0.2,'sigma':0.1}],['gaussmf',{'mean':0.1,'sigma':0.1}]],\n",
    "#       [['gaussmf',{'mean':0.4,'sigma':0.1}],['gaussmf',{'mean':0.2,'sigma':0.1}],['gaussmf',{'mean':0.1,'sigma':0.1}]],\n",
    "#       [['gaussmf',{'mean':0.01,'sigma':0.01}],['gaussmf',{'mean':0.,'sigma':0.01}],['gaussmf',{'mean':-0.01,'sigma':0.01}]]]"
   ]
  },
  {
   "cell_type": "code",
   "execution_count": 62,
   "id": "2feee177",
   "metadata": {},
   "outputs": [
    {
     "name": "stdout",
     "output_type": "stream",
     "text": [
      "current error: 0.0031928343897473454\n",
      "epoch: 2\n",
      "Converged yet?: False\n",
      "current error: 0.0031927882370340463\n",
      "epoch: 3\n",
      "Converged yet?: False\n",
      "current error: 0.003192739513570231\n",
      "epoch: 4\n",
      "Converged yet?: False\n",
      "current error: 0.0031926880118266256\n",
      "epoch: 5\n",
      "Converged yet?: False\n",
      "current error: 0.0031926278905994006\n",
      "epoch: 6\n",
      "Converged yet?: False\n",
      "current error: 0.003192557196796544\n",
      "epoch: 7\n",
      "Converged yet?: False\n",
      "current error: 0.0031924733925827015\n",
      "epoch: 8\n",
      "Converged yet?: False\n",
      "current error: 0.0031923731381074006\n",
      "epoch: 9\n",
      "Converged yet?: False\n",
      "current error: 0.003192251978845307\n",
      "epoch: 10\n",
      "Converged yet?: False\n",
      "current error: 0.003192103889811562\n",
      "epoch: 11\n",
      "Converged yet?: False\n",
      "current error: 0.0031919206027983746\n",
      "epoch: 12\n",
      "Converged yet?: False\n",
      "current error: 0.0031916906022147135\n",
      "epoch: 13\n",
      "Converged yet?: False\n",
      "current error: 0.003191397613782261\n",
      "epoch: 14\n",
      "Converged yet?: False\n",
      "current error: 0.0031910183236569184\n",
      "epoch: 15\n",
      "Converged yet?: False\n",
      "current error: 0.0031905189632929166\n",
      "epoch: 16\n",
      "Converged yet?: False\n",
      "current error: 0.0031898503441996576\n",
      "epoch: 17\n",
      "Converged yet?: False\n",
      "current error: 0.003188941177255868\n",
      "epoch: 18\n",
      "Converged yet?: False\n",
      "current error: 0.0031876908339397215\n",
      "epoch: 19\n",
      "Converged yet?: False\n",
      "current error: 0.0031859670902974506\n",
      "epoch: 20\n",
      "Converged yet?: False\n",
      "-0.009262\n",
      "-0.000597\n",
      "-0.000806\n",
      "Plotting errors\n"
     ]
    },
    {
     "data": {
      "image/png": "[encoded data removed]",
      "text/plain": [
       "<Figure size 432x288 with 1 Axes>"
      ]
     },
     "metadata": {
      "needs_background": "light"
     },
     "output_type": "display_data"
    },
    {
     "name": "stdout",
     "output_type": "stream",
     "text": [
      "Plotting results\n"
     ]
    },
    {
     "data": {
      "image/png": "[encoded data removed]",
      "text/plain": [
       "<Figure size 432x288 with 1 Axes>"
      ]
     },
     "metadata": {
      "needs_background": "light"
     },
     "output_type": "display_data"
    }
   ],
   "source": [
    "mfc = membership.membershipfunction.MemFuncs(mf)\n",
    "anf = anfis.ANFIS(X_train, y_train, mfc)\n",
    "anf.trainHybridJangOffLine(epochs=20)\n",
    "print(round(anf.consequents[-1][0],6))\n",
    "print(round(anf.consequents[-2][0],6))\n",
    "print(round(anf.fittedValues[9][0],6))\n",
    "if round(anf.consequents[-1][0],6) == -5.275538 and round(anf.consequents[-2][0],6) == -1.990703 and round(anf.fittedValues[9][0],6) == 0.002249:\n",
    "    print('test is good')\n",
    "\n",
    "print(\"Plotting errors\")\n",
    "anf.plotErrors()\n",
    "print(\"Plotting results\")\n",
    "anf.plotResults()"
   ]
  },
  {
   "cell_type": "code",
   "execution_count": 49,
   "id": "35dcc70b",
   "metadata": {},
   "outputs": [
    {
     "data": {
      "text/plain": [
       "[[['gaussmf', {'mean': 1.002154510403583, 'sigma': 0.8191638923353768}],\n",
       "  ['gaussmf', {'mean': -0.10884586578416075, 'sigma': 0.8039946288298485}]],\n",
       " [['gaussmf', {'mean': 1.0074940972896342, 'sigma': 0.997737722203462}],\n",
       "  ['gaussmf', {'mean': -0.004007980736864466, 'sigma': 1.0260178502112844}]],\n",
       " [['gaussmf', {'mean': 0.9938020866977109, 'sigma': 1.006047045112703}],\n",
       "  ['gaussmf', {'mean': -0.9844452571697854, 'sigma': 1.015440242107915}]]]"
      ]
     },
     "execution_count": 49,
     "metadata": {},
     "output_type": "execute_result"
    }
   ],
   "source": [
    "anf.memFuncs"
   ]
  },
  {
   "cell_type": "code",
   "execution_count": 58,
   "id": "14e540c0",
   "metadata": {},
   "outputs": [
    {
     "data": {
      "text/plain": [
       "(415, 3)"
      ]
     },
     "execution_count": 58,
     "metadata": {},
     "output_type": "execute_result"
    }
   ],
   "source": [
    "X.shape"
   ]
  },
  {
   "cell_type": "markdown",
   "id": "cbb3818b",
   "metadata": {},
   "source": [
    "### Test accuracy"
   ]
  },
  {
   "cell_type": "code",
   "execution_count": 63,
   "id": "fcd46979",
   "metadata": {},
   "outputs": [],
   "source": [
    "y_pred = anfis.predict(anf, X_test)"
   ]
  },
  {
   "cell_type": "code",
   "execution_count": 64,
   "id": "bddf2864",
   "metadata": {},
   "outputs": [],
   "source": [
    "b = pd.DataFrame(y_pred, columns = ['pred_values'])"
   ]
  },
  {
   "cell_type": "code",
   "execution_count": 65,
   "id": "35a76efe",
   "metadata": {},
   "outputs": [],
   "source": [
    "b[\"true_values\"] = y_test.tolist()"
   ]
  },
  {
   "cell_type": "code",
   "execution_count": 66,
   "id": "1cc088a0",
   "metadata": {},
   "outputs": [],
   "source": [
    "b[\"direction\"] = b[\"pred_values\"]*b[\"true_values\"]"
   ]
  },
  {
   "cell_type": "code",
   "execution_count": 67,
   "id": "331de4d7",
   "metadata": {},
   "outputs": [],
   "source": [
    "b[\"same_direction\"] = (b[\"direction\"] > 0)"
   ]
  },
  {
   "cell_type": "code",
   "execution_count": 68,
   "id": "c4c63c94",
   "metadata": {},
   "outputs": [
    {
     "data": {
      "text/plain": [
       "True     46\n",
       "False    37\n",
       "Name: same_direction, dtype: int64"
      ]
     },
     "execution_count": 68,
     "metadata": {},
     "output_type": "execute_result"
    }
   ],
   "source": [
    "b[\"same_direction\"].value_counts()"
   ]
  },
  {
   "cell_type": "markdown",
   "id": "e7f55461",
   "metadata": {},
   "source": [
    "### Save Trained model parameters"
   ]
  },
  {
   "cell_type": "code",
   "execution_count": 400,
   "id": "8ebf3b4e",
   "metadata": {},
   "outputs": [],
   "source": [
    "# save to npy file\n",
    "data_X = asarray(anf.X)\n",
    "data_Y = asarray(anf.Y)\n",
    "data_consequents = asarray(anf.consequents)\n",
    "data_mf = asarray(anf.memFuncs)\n",
    "\n",
    "save(f'{ticker}_X.npy', data_X)\n",
    "save(f'{ticker}_Y.npy', data_Y)\n",
    "save(f'{ticker}_consequents.npy', data_consequents)\n",
    "save(f'{ticker}_mf.npy', data_mf)"
   ]
  },
  {
   "cell_type": "markdown",
   "id": "611e28d7",
   "metadata": {},
   "source": [
    "### Try SVM and Random Forrest"
   ]
  },
  {
   "cell_type": "code",
   "execution_count": 69,
   "id": "e43736c1",
   "metadata": {},
   "outputs": [],
   "source": [
    "X = master[[\"Positive_agg\",\"Negative_agg\",\"past_5min_mom\"]].values\n",
    "# X = master[[\"Positive\",\"Negative\",\"past_5min_mom\"]].values\n",
    "# X = master[[\"Positive_agg\",\"Negative_agg\"]].values\n",
    "# X = master[[\"past_5min_mom\"]].values\n",
    "Y = master[\"5min_ret\"].values"
   ]
  },
  {
   "cell_type": "code",
   "execution_count": 70,
   "id": "aad37c2f",
   "metadata": {},
   "outputs": [],
   "source": [
    "Y = np.where(master[\"5min_ret\"]>0, 1, 0)"
   ]
  },
  {
   "cell_type": "code",
   "execution_count": 71,
   "id": "58bc448c",
   "metadata": {},
   "outputs": [],
   "source": [
    "X_train, X_test, y_train, y_test = train_test_split(X, Y, test_size=0.2)"
   ]
  },
  {
   "cell_type": "code",
   "execution_count": 72,
   "id": "f612b254",
   "metadata": {},
   "outputs": [],
   "source": [
    "sc = StandardScaler()"
   ]
  },
  {
   "cell_type": "code",
   "execution_count": 73,
   "id": "a1db74a3",
   "metadata": {},
   "outputs": [],
   "source": [
    "X_train = sc.fit_transform(X_train)\n",
    "X_test = sc.transform(X_test)"
   ]
  },
  {
   "cell_type": "code",
   "execution_count": 74,
   "id": "5a43b69a",
   "metadata": {},
   "outputs": [
    {
     "data": {
      "text/plain": [
       "RandomForestClassifier(n_estimators=200)"
      ]
     },
     "execution_count": 74,
     "metadata": {},
     "output_type": "execute_result"
    }
   ],
   "source": [
    "rfc = RandomForestClassifier(n_estimators=200)\n",
    "rfc.fit(X_train, y_train)"
   ]
  },
  {
   "cell_type": "code",
   "execution_count": 75,
   "id": "49021f43",
   "metadata": {},
   "outputs": [],
   "source": [
    "pred_rfc = rfc.predict(X_test)"
   ]
  },
  {
   "cell_type": "code",
   "execution_count": 76,
   "id": "afebe03b",
   "metadata": {},
   "outputs": [
    {
     "name": "stdout",
     "output_type": "stream",
     "text": [
      "              precision    recall  f1-score   support\n",
      "\n",
      "           0       0.50      0.61      0.55        41\n",
      "           1       0.52      0.40      0.45        42\n",
      "\n",
      "    accuracy                           0.51        83\n",
      "   macro avg       0.51      0.51      0.50        83\n",
      "weighted avg       0.51      0.51      0.50        83\n",
      "\n"
     ]
    }
   ],
   "source": [
    "print(classification_report(y_test, pred_rfc))"
   ]
  },
  {
   "cell_type": "code",
   "execution_count": 77,
   "id": "79fcb87e",
   "metadata": {},
   "outputs": [
    {
     "name": "stderr",
     "output_type": "stream",
     "text": [
      "/usr/local/lib/python3.9/site-packages/sklearn/utils/deprecation.py:87: FutureWarning: Function plot_confusion_matrix is deprecated; Function `plot_confusion_matrix` is deprecated in 1.0 and will be removed in 1.2. Use one of the class methods: ConfusionMatrixDisplay.from_predictions or ConfusionMatrixDisplay.from_estimator.\n",
      "  warnings.warn(msg, category=FutureWarning)\n"
     ]
    },
    {
     "data": {
      "text/plain": [
       "<sklearn.metrics._plot.confusion_matrix.ConfusionMatrixDisplay at 0x172a19df0>"
      ]
     },
     "execution_count": 77,
     "metadata": {},
     "output_type": "execute_result"
    },
    {
     "data": {
      "image/png": "[encoded data removed]",
      "text/plain": [
       "<Figure size 432x288 with 2 Axes>"
      ]
     },
     "metadata": {
      "needs_background": "light"
     },
     "output_type": "display_data"
    }
   ],
   "source": [
    "plot_confusion_matrix(rfc, X_test, y_test, cmap='Blues', values_format='.3g')"
   ]
  },
  {
   "cell_type": "markdown",
   "id": "3d9163e7",
   "metadata": {},
   "source": [
    "### Look-ahead bias"
   ]
  },
  {
   "cell_type": "code",
   "execution_count": null,
   "id": "949d04ab",
   "metadata": {},
   "outputs": [],
   "source": [
    "X = master[[\"Positive_fut\",\"Negative_fut\",\"past_5min_mom\"]].values\n",
    "# X = master[[\"Positive_agg\",\"Negative_agg\"]].values\n",
    "# X = master[[\"past_5min_mom\"]].values\n",
    "Y = master[\"5min_ret\"].values\n",
    "Y = np.where(master[\"5min_ret\"]>0, 1, 0)"
   ]
  },
  {
   "cell_type": "code",
   "execution_count": null,
   "id": "a55569c0",
   "metadata": {},
   "outputs": [],
   "source": [
    "X_train, X_test, y_train, y_test = train_test_split(X, Y, test_size=0.2)\n",
    "sc = StandardScaler()\n",
    "X_train = sc.fit_transform(X_train)\n",
    "X_test = sc.transform(X_test)"
   ]
  },
  {
   "cell_type": "code",
   "execution_count": null,
   "id": "c022ff42",
   "metadata": {},
   "outputs": [
    {
     "data": {
      "text/plain": [
       "RandomForestClassifier(n_estimators=200)"
      ]
     },
     "execution_count": 70,
     "metadata": {},
     "output_type": "execute_result"
    }
   ],
   "source": [
    "rfc_fut = RandomForestClassifier(n_estimators=200)\n",
    "rfc_fut.fit(X_train, y_train)"
   ]
  },
  {
   "cell_type": "code",
   "execution_count": null,
   "id": "6cf7f483",
   "metadata": {},
   "outputs": [],
   "source": [
    "pred_rfc_fut = rfc_fut.predict(X_test)"
   ]
  },
  {
   "cell_type": "code",
   "execution_count": null,
   "id": "1c4f21f1",
   "metadata": {},
   "outputs": [
    {
     "name": "stdout",
     "output_type": "stream",
     "text": [
      "              precision    recall  f1-score   support\n",
      "\n",
      "           0       0.49      0.53      0.51        40\n",
      "           1       0.51      0.48      0.49        42\n",
      "\n",
      "    accuracy                           0.50        82\n",
      "   macro avg       0.50      0.50      0.50        82\n",
      "weighted avg       0.50      0.50      0.50        82\n",
      "\n"
     ]
    }
   ],
   "source": [
    "print(classification_report(y_test, pred_rfc_fut))"
   ]
  },
  {
   "cell_type": "code",
   "execution_count": null,
   "id": "11f2e093",
   "metadata": {},
   "outputs": [
    {
     "name": "stderr",
     "output_type": "stream",
     "text": [
      "/usr/local/lib/python3.9/site-packages/sklearn/utils/deprecation.py:87: FutureWarning: Function plot_confusion_matrix is deprecated; Function `plot_confusion_matrix` is deprecated in 1.0 and will be removed in 1.2. Use one of the class methods: ConfusionMatrixDisplay.from_predictions or ConfusionMatrixDisplay.from_estimator.\n",
      "  warnings.warn(msg, category=FutureWarning)\n"
     ]
    },
    {
     "data": {
      "text/plain": [
       "<sklearn.metrics._plot.confusion_matrix.ConfusionMatrixDisplay at 0x1726233a0>"
      ]
     },
     "execution_count": 73,
     "metadata": {},
     "output_type": "execute_result"
    },
    {
     "data": {
      "image/png": "[encoded data removed]",
      "text/plain": [
       "<Figure size 432x288 with 2 Axes>"
      ]
     },
     "metadata": {
      "needs_background": "light"
     },
     "output_type": "display_data"
    }
   ],
   "source": [
    "plot_confusion_matrix(rfc_fut, X_test, y_test, cmap='Blues', values_format='.3g')"
   ]
  }
 ],
 "metadata": {
  "kernelspec": {
   "display_name": "Python 3 (ipykernel)",
   "language": "python",
   "name": "python3"
  },
  "language_info": {
   "codemirror_mode": {
    "name": "ipython",
    "version": 3
   },
   "file_extension": ".py",
   "mimetype": "text/x-python",
   "name": "python",
   "nbconvert_exporter": "python",
   "pygments_lexer": "ipython3",
   "version": "3.9.12"
  },
  "vscode": {
   "interpreter": {
    "hash": "aee8b7b246df8f9039afb4144a1f6fd8d2ca17a180786b69acc140d282b71a49"
   }
  }
 },
 "nbformat": 4,
 "nbformat_minor": 5
}
