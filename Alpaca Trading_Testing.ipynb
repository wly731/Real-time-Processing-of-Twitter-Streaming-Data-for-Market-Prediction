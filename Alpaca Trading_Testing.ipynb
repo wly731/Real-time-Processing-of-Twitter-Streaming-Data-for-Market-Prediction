{
 "cells": [
  {
   "cell_type": "code",
   "execution_count": 5,
   "id": "5273576b",
   "metadata": {},
   "outputs": [
    {
     "data": {
      "text/plain": [
       "'/Users/utkarshtripathi/opt/anaconda3/bin/python'"
      ]
     },
     "execution_count": 5,
     "metadata": {},
     "output_type": "execute_result"
    }
   ],
   "source": [
    "sys.executable"
   ]
  },
  {
   "cell_type": "code",
   "execution_count": 6,
   "id": "e82e2d36",
   "metadata": {
    "scrolled": true
   },
   "outputs": [
    {
     "name": "stdout",
     "output_type": "stream",
     "text": [
      "Collecting alpaca-py\n",
      "  Downloading alpaca_py-0.6.1-py3-none-any.whl (94 kB)\n",
      "\u001b[2K     \u001b[90m━━━━━━━━━━━━━━━━━━━━━━━━━━━━━━━━━━━━━━━━\u001b[0m \u001b[32m94.9/94.9 kB\u001b[0m \u001b[31m3.9 MB/s\u001b[0m eta \u001b[36m0:00:00\u001b[0m\n",
      "\u001b[?25hRequirement already satisfied: msgpack<2.0.0,>=1.0.3 in /Users/utkarshtripathi/opt/anaconda3/lib/python3.7/site-packages (from alpaca-py) (1.0.3)\n",
      "Requirement already satisfied: requests<3.0.0,>=2.27.1 in /Users/utkarshtripathi/opt/anaconda3/lib/python3.7/site-packages (from alpaca-py) (2.27.1)\n",
      "Collecting websockets<11.0,>=10.2\n",
      "  Downloading websockets-10.4-cp37-cp37m-macosx_10_9_x86_64.whl (97 kB)\n",
      "\u001b[2K     \u001b[90m━━━━━━━━━━━━━━━━━━━━━━━━━━━━━━━━━━━━━━━━\u001b[0m \u001b[32m97.8/97.8 kB\u001b[0m \u001b[31m6.1 MB/s\u001b[0m eta \u001b[36m0:00:00\u001b[0m\n",
      "\u001b[?25hRequirement already satisfied: pandas<2.0.0,>=1.3.5 in /Users/utkarshtripathi/opt/anaconda3/lib/python3.7/site-packages (from alpaca-py) (1.3.5)\n",
      "Collecting sseclient-py<2.0.0,>=1.7.2\n",
      "  Downloading sseclient_py-1.7.2-py2.py3-none-any.whl (8.4 kB)\n",
      "Collecting pydantic<2.0.0,>=1.9.0\n",
      "  Downloading pydantic-1.10.2-cp37-cp37m-macosx_10_9_x86_64.whl (3.0 MB)\n",
      "\u001b[2K     \u001b[90m━━━━━━━━━━━━━━━━━━━━━━━━━━━━━━━━━━━━━━━━\u001b[0m \u001b[32m3.0/3.0 MB\u001b[0m \u001b[31m26.6 MB/s\u001b[0m eta \u001b[36m0:00:00\u001b[0m00:01\u001b[0m00:01\u001b[0m\n",
      "\u001b[?25hRequirement already satisfied: numpy>=1.17.3 in /Users/utkarshtripathi/opt/anaconda3/lib/python3.7/site-packages (from pandas<2.0.0,>=1.3.5->alpaca-py) (1.21.6)\n",
      "Requirement already satisfied: python-dateutil>=2.7.3 in /Users/utkarshtripathi/opt/anaconda3/lib/python3.7/site-packages (from pandas<2.0.0,>=1.3.5->alpaca-py) (2.8.2)\n",
      "Requirement already satisfied: pytz>=2017.3 in /Users/utkarshtripathi/opt/anaconda3/lib/python3.7/site-packages (from pandas<2.0.0,>=1.3.5->alpaca-py) (2022.1)\n",
      "Requirement already satisfied: typing-extensions>=4.1.0 in /Users/utkarshtripathi/opt/anaconda3/lib/python3.7/site-packages (from pydantic<2.0.0,>=1.9.0->alpaca-py) (4.2.0)\n",
      "Requirement already satisfied: idna<4,>=2.5 in /Users/utkarshtripathi/opt/anaconda3/lib/python3.7/site-packages (from requests<3.0.0,>=2.27.1->alpaca-py) (2.8)\n",
      "Requirement already satisfied: certifi>=2017.4.17 in /Users/utkarshtripathi/opt/anaconda3/lib/python3.7/site-packages (from requests<3.0.0,>=2.27.1->alpaca-py) (2021.10.8)\n",
      "Requirement already satisfied: urllib3<1.27,>=1.21.1 in /Users/utkarshtripathi/opt/anaconda3/lib/python3.7/site-packages (from requests<3.0.0,>=2.27.1->alpaca-py) (1.26.9)\n",
      "Requirement already satisfied: charset-normalizer~=2.0.0 in /Users/utkarshtripathi/opt/anaconda3/lib/python3.7/site-packages (from requests<3.0.0,>=2.27.1->alpaca-py) (2.0.12)\n",
      "Requirement already satisfied: six>=1.5 in /Users/utkarshtripathi/opt/anaconda3/lib/python3.7/site-packages (from python-dateutil>=2.7.3->pandas<2.0.0,>=1.3.5->alpaca-py) (1.16.0)\n",
      "Installing collected packages: sseclient-py, websockets, pydantic, alpaca-py\n",
      "Successfully installed alpaca-py-0.6.1 pydantic-1.10.2 sseclient-py-1.7.2 websockets-10.4\n",
      "\n",
      "\u001b[1m[\u001b[0m\u001b[34;49mnotice\u001b[0m\u001b[1;39;49m]\u001b[0m\u001b[39;49m A new release of pip available: \u001b[0m\u001b[31;49m22.3\u001b[0m\u001b[39;49m -> \u001b[0m\u001b[32;49m22.3.1\u001b[0m\n",
      "\u001b[1m[\u001b[0m\u001b[34;49mnotice\u001b[0m\u001b[1;39;49m]\u001b[0m\u001b[39;49m To update, run: \u001b[0m\u001b[32;49mpip install --upgrade pip\u001b[0m\n"
     ]
    }
   ],
   "source": [
    "!pip install alpaca-py\n"
   ]
  },
  {
   "cell_type": "code",
   "execution_count": 3,
   "id": "759e341b",
   "metadata": {},
   "outputs": [
    {
     "name": "stdout",
     "output_type": "stream",
     "text": [
      "Requirement already satisfied: alpaca in /Users/utkarshtripathi/opt/anaconda3/lib/python3.7/site-packages (1.0.0)\n",
      "\n",
      "\u001b[1m[\u001b[0m\u001b[34;49mnotice\u001b[0m\u001b[1;39;49m]\u001b[0m\u001b[39;49m A new release of pip available: \u001b[0m\u001b[31;49m22.3\u001b[0m\u001b[39;49m -> \u001b[0m\u001b[32;49m22.3.1\u001b[0m\n",
      "\u001b[1m[\u001b[0m\u001b[34;49mnotice\u001b[0m\u001b[1;39;49m]\u001b[0m\u001b[39;49m To update, run: \u001b[0m\u001b[32;49mpip install --upgrade pip\u001b[0m\n"
     ]
    }
   ],
   "source": [
    "import sys\n",
    "!{sys.executable} -m pip install alpaca"
   ]
  },
  {
   "cell_type": "code",
   "execution_count": 28,
   "id": "67f6f1e7",
   "metadata": {},
   "outputs": [],
   "source": [
    "from alpaca.trading.client import TradingClient\n",
    "from alpaca.trading.requests import MarketOrderRequest\n",
    "from alpaca.trading.enums import OrderSide, TimeInForce\n",
    "import csv\n",
    "import requests\n",
    "import pandas as pd\n",
    "import io\n",
    "import ssl\n",
    "import websocket\n",
    "import _thread"
   ]
  },
  {
   "cell_type": "code",
   "execution_count": 29,
   "id": "f7bb5b49",
   "metadata": {},
   "outputs": [],
   "source": [
    "PAPER_ENDPOINT = \"https://paper-api.alpaca.markets\"\n",
    "API_KEY = \"PK8ZOSEE0UA91VMR6JBB\"\n",
    "SECRET_KEY = \"GC79IfVdqr7UBt16dkvYcsQh6BAIcahGnwwnUtfR\"\n",
    "HEADERS = {\n",
    "    'APCA-API-KEY-ID': API_KEY,\n",
    "    'APCA-API-SECRET-KEY': SECRET_KEY\n",
    "}\n",
    "\n",
    "ALPHA_API_KEY = \"OG8JDKQOTOISF1RD\""
   ]
  },
  {
   "cell_type": "code",
   "execution_count": 30,
   "id": "c985239c",
   "metadata": {},
   "outputs": [
    {
     "data": {
      "text/plain": [
       "{'APCA-API-KEY-ID': 'PK8ZOSEE0UA91VMR6JBB',\n",
       " 'APCA-API-SECRET-KEY': 'GC79IfVdqr7UBt16dkvYcsQh6BAIcahGnwwnUtfR'}"
      ]
     },
     "execution_count": 30,
     "metadata": {},
     "output_type": "execute_result"
    }
   ],
   "source": [
    "HEADERS"
   ]
  },
  {
   "cell_type": "code",
   "execution_count": 31,
   "id": "3ba24b5a",
   "metadata": {},
   "outputs": [],
   "source": [
    "trading_client = TradingClient(API_KEY, SECRET_KEY, paper=True)"
   ]
  },
  {
   "cell_type": "code",
   "execution_count": 32,
   "id": "2e31f086",
   "metadata": {},
   "outputs": [
    {
     "name": "stdout",
     "output_type": "stream",
     "text": [
      "\"id\": 27276f02-97a3-4ce6-8506-b2ba3c086454\n",
      "\"account_number\": PA3G5KATTY1Q\n",
      "\"status\": ACTIVE\n",
      "\"crypto_status\": ACTIVE\n",
      "\"currency\": USD\n",
      "\"buying_power\": 199489.87\n",
      "\"regt_buying_power\": 199489.87\n",
      "\"daytrading_buying_power\": 0\n",
      "\"non_marginable_buying_power\": 99510.98\n",
      "\"cash\": 99510.98\n",
      "\"accrued_fees\": 0\n",
      "\"pending_transfer_out\": None\n",
      "\"pending_transfer_in\": 0\n",
      "\"portfolio_value\": 99978.89\n",
      "\"pattern_day_trader\": False\n",
      "\"trading_blocked\": False\n",
      "\"transfers_blocked\": False\n",
      "\"account_blocked\": False\n",
      "\"created_at\": 2022-12-02 19:19:52.938885+00:00\n",
      "\"trade_suspended_by_user\": False\n",
      "\"multiplier\": 2\n",
      "\"shorting_enabled\": True\n",
      "\"equity\": 99978.89\n",
      "\"last_equity\": 99986.69\n",
      "\"long_market_value\": 467.91\n",
      "\"short_market_value\": 0\n",
      "\"initial_margin\": 233.955\n",
      "\"maintenance_margin\": 140.373\n",
      "\"last_maintenance_margin\": 160.96\n",
      "\"sma\": 99927.52\n",
      "\"daytrade_count\": 0\n"
     ]
    }
   ],
   "source": [
    "account = trading_client.get_account()\n",
    "for property_name, value in account:\n",
    "    print(f\"\\\"{property_name}\\\": {value}\")"
   ]
  },
  {
   "cell_type": "code",
   "execution_count": 67,
   "id": "77dace40",
   "metadata": {},
   "outputs": [],
   "source": [
    "ticker = 'AMD'"
   ]
  },
  {
   "cell_type": "code",
   "execution_count": 70,
   "id": "32a0f1f8",
   "metadata": {},
   "outputs": [],
   "source": [
    "market_order_data = MarketOrderRequest(\n",
    "                      symbol=f\"{ticker}\",\n",
    "                      notional=1000,\n",
    "                      side=OrderSide.SELL,\n",
    "                      time_in_force=TimeInForce.DAY\n",
    "                  )"
   ]
  },
  {
   "cell_type": "code",
   "execution_count": 71,
   "id": "a2f7f094",
   "metadata": {},
   "outputs": [
    {
     "ename": "APIError",
     "evalue": "{\"code\":42210000,\"message\":\"fractional orders cannot be sold short\"}",
     "output_type": "error",
     "traceback": [
      "\u001b[0;31m---------------------------------------------------------------------------\u001b[0m",
      "\u001b[0;31mHTTPError\u001b[0m                                 Traceback (most recent call last)",
      "File \u001b[0;32m/usr/local/lib/python3.9/site-packages/alpaca/common/rest.py:187\u001b[0m, in \u001b[0;36mRESTClient._one_request\u001b[0;34m(self, method, url, opts, retry)\u001b[0m\n\u001b[1;32m    186\u001b[0m \u001b[39mtry\u001b[39;00m:\n\u001b[0;32m--> 187\u001b[0m     response\u001b[39m.\u001b[39;49mraise_for_status()\n\u001b[1;32m    188\u001b[0m \u001b[39mexcept\u001b[39;00m HTTPError \u001b[39mas\u001b[39;00m http_error:\n\u001b[1;32m    189\u001b[0m     \u001b[39m# retry if we hit Rate Limit\u001b[39;00m\n",
      "File \u001b[0;32m/usr/local/lib/python3.9/site-packages/requests/models.py:960\u001b[0m, in \u001b[0;36mResponse.raise_for_status\u001b[0;34m(self)\u001b[0m\n\u001b[1;32m    959\u001b[0m \u001b[39mif\u001b[39;00m http_error_msg:\n\u001b[0;32m--> 960\u001b[0m     \u001b[39mraise\u001b[39;00m HTTPError(http_error_msg, response\u001b[39m=\u001b[39m\u001b[39mself\u001b[39m)\n",
      "\u001b[0;31mHTTPError\u001b[0m: 422 Client Error: Unprocessable Entity for url: https://paper-api.alpaca.markets/v2/orders",
      "\nDuring handling of the above exception, another exception occurred:\n",
      "\u001b[0;31mAPIError\u001b[0m                                  Traceback (most recent call last)",
      "\u001b[1;32m/Users/Vincent/Desktop/Advanced Data Analysis/Project/ada_project/Alpaca Trading.ipynb Cell 11\u001b[0m in \u001b[0;36m<cell line: 1>\u001b[0;34m()\u001b[0m\n\u001b[0;32m----> <a href='vscode-notebook-cell:/Users/Vincent/Desktop/Advanced%20Data%20Analysis/Project/ada_project/Alpaca%20Trading.ipynb#X12sZmlsZQ%3D%3D?line=0'>1</a>\u001b[0m market_order \u001b[39m=\u001b[39m trading_client\u001b[39m.\u001b[39;49msubmit_order(market_order_data)\n\u001b[1;32m      <a href='vscode-notebook-cell:/Users/Vincent/Desktop/Advanced%20Data%20Analysis/Project/ada_project/Alpaca%20Trading.ipynb#X12sZmlsZQ%3D%3D?line=1'>2</a>\u001b[0m \u001b[39mfor\u001b[39;00m property_name, value \u001b[39min\u001b[39;00m market_order:\n\u001b[1;32m      <a href='vscode-notebook-cell:/Users/Vincent/Desktop/Advanced%20Data%20Analysis/Project/ada_project/Alpaca%20Trading.ipynb#X12sZmlsZQ%3D%3D?line=2'>3</a>\u001b[0m     \u001b[39mprint\u001b[39m(\u001b[39mf\u001b[39m\u001b[39m\"\u001b[39m\u001b[39m\\\"\u001b[39;00m\u001b[39m{\u001b[39;00mproperty_name\u001b[39m}\u001b[39;00m\u001b[39m\\\"\u001b[39;00m\u001b[39m: \u001b[39m\u001b[39m{\u001b[39;00mvalue\u001b[39m}\u001b[39;00m\u001b[39m\"\u001b[39m)\n",
      "File \u001b[0;32m/usr/local/lib/python3.9/site-packages/alpaca/trading/client.py:89\u001b[0m, in \u001b[0;36mTradingClient.submit_order\u001b[0;34m(self, order_data)\u001b[0m\n\u001b[1;32m     80\u001b[0m \u001b[39m\"\"\"Creates an order to buy or sell an asset.\u001b[39;00m\n\u001b[1;32m     81\u001b[0m \n\u001b[1;32m     82\u001b[0m \u001b[39mArgs:\u001b[39;00m\n\u001b[0;32m   (...)\u001b[0m\n\u001b[1;32m     86\u001b[0m \u001b[39m    alpaca.trading.models.Order: The resulting submitted order.\u001b[39;00m\n\u001b[1;32m     87\u001b[0m \u001b[39m\"\"\"\u001b[39;00m\n\u001b[1;32m     88\u001b[0m data \u001b[39m=\u001b[39m order_data\u001b[39m.\u001b[39mto_request_fields()\n\u001b[0;32m---> 89\u001b[0m response \u001b[39m=\u001b[39m \u001b[39mself\u001b[39;49m\u001b[39m.\u001b[39;49mpost(\u001b[39m\"\u001b[39;49m\u001b[39m/orders\u001b[39;49m\u001b[39m\"\u001b[39;49m, data)\n\u001b[1;32m     91\u001b[0m \u001b[39mif\u001b[39;00m \u001b[39mself\u001b[39m\u001b[39m.\u001b[39m_use_raw_data:\n\u001b[1;32m     92\u001b[0m     \u001b[39mreturn\u001b[39;00m response\n",
      "File \u001b[0;32m/usr/local/lib/python3.9/site-packages/alpaca/common/rest.py:225\u001b[0m, in \u001b[0;36mRESTClient.post\u001b[0;34m(self, path, data)\u001b[0m\n\u001b[1;32m    214\u001b[0m \u001b[39mdef\u001b[39;00m \u001b[39mpost\u001b[39m(\u001b[39mself\u001b[39m, path: \u001b[39mstr\u001b[39m, data: Union[\u001b[39mdict\u001b[39m, List[\u001b[39mdict\u001b[39m], \u001b[39mstr\u001b[39m] \u001b[39m=\u001b[39m \u001b[39mNone\u001b[39;00m) \u001b[39m-\u001b[39m\u001b[39m>\u001b[39m HTTPResult:\n\u001b[1;32m    215\u001b[0m     \u001b[39m\"\"\"Performs a single POST request\u001b[39;00m\n\u001b[1;32m    216\u001b[0m \n\u001b[1;32m    217\u001b[0m \u001b[39m    Args:\u001b[39;00m\n\u001b[0;32m   (...)\u001b[0m\n\u001b[1;32m    223\u001b[0m \u001b[39m        dict: The response\u001b[39;00m\n\u001b[1;32m    224\u001b[0m \u001b[39m    \"\"\"\u001b[39;00m\n\u001b[0;32m--> 225\u001b[0m     \u001b[39mreturn\u001b[39;00m \u001b[39mself\u001b[39;49m\u001b[39m.\u001b[39;49m_request(\u001b[39m\"\u001b[39;49m\u001b[39mPOST\u001b[39;49m\u001b[39m\"\u001b[39;49m, path, data)\n",
      "File \u001b[0;32m/usr/local/lib/python3.9/site-packages/alpaca/common/rest.py:126\u001b[0m, in \u001b[0;36mRESTClient._request\u001b[0;34m(self, method, path, data, base_url, api_version)\u001b[0m\n\u001b[1;32m    124\u001b[0m \u001b[39mwhile\u001b[39;00m retry \u001b[39m>\u001b[39m\u001b[39m=\u001b[39m \u001b[39m0\u001b[39m:\n\u001b[1;32m    125\u001b[0m     \u001b[39mtry\u001b[39;00m:\n\u001b[0;32m--> 126\u001b[0m         \u001b[39mreturn\u001b[39;00m \u001b[39mself\u001b[39;49m\u001b[39m.\u001b[39;49m_one_request(method, url, opts, retry)\n\u001b[1;32m    127\u001b[0m     \u001b[39mexcept\u001b[39;00m RetryException:\n\u001b[1;32m    128\u001b[0m         time\u001b[39m.\u001b[39msleep(\u001b[39mself\u001b[39m\u001b[39m.\u001b[39m_retry_wait)\n",
      "File \u001b[0;32m/usr/local/lib/python3.9/site-packages/alpaca/common/rest.py:196\u001b[0m, in \u001b[0;36mRESTClient._one_request\u001b[0;34m(self, method, url, opts, retry)\u001b[0m\n\u001b[1;32m    193\u001b[0m     \u001b[39m# raise API error for all other errors\u001b[39;00m\n\u001b[1;32m    194\u001b[0m     error \u001b[39m=\u001b[39m response\u001b[39m.\u001b[39mtext\n\u001b[0;32m--> 196\u001b[0m     \u001b[39mraise\u001b[39;00m APIError(error, http_error)\n\u001b[1;32m    198\u001b[0m \u001b[39mif\u001b[39;00m response\u001b[39m.\u001b[39mtext \u001b[39m!=\u001b[39m \u001b[39m\"\u001b[39m\u001b[39m\"\u001b[39m:\n\u001b[1;32m    199\u001b[0m     \u001b[39mreturn\u001b[39;00m response\u001b[39m.\u001b[39mjson()\n",
      "\u001b[0;31mAPIError\u001b[0m: {\"code\":42210000,\"message\":\"fractional orders cannot be sold short\"}"
     ]
    }
   ],
   "source": [
    "market_order = trading_client.submit_order(market_order_data)\n",
    "for property_name, value in market_order:\n",
    "    print(f\"\\\"{property_name}\\\": {value}\")"
   ]
  },
  {
   "cell_type": "code",
   "execution_count": 34,
   "id": "75912404",
   "metadata": {},
   "outputs": [
    {
     "name": "stdout",
     "output_type": "stream",
     "text": [
      "\"asset_id\": b0b6dd9d-8b9b-48a9-ba46-b9d54906e415\n",
      "\"symbol\": AAPL\n",
      "\"exchange\": NASDAQ\n",
      "\"asset_class\": us_equity\n",
      "\"avg_entry_price\": 147.49\n",
      "\"qty\": 2\n",
      "\"side\": long\n",
      "\"market_value\": 288.96\n",
      "\"cost_basis\": 294.98\n",
      "\"unrealized_pl\": -6.02\n",
      "\"unrealized_plpc\": -0.0204081632653061\n",
      "\"unrealized_intraday_pl\": -4.3\n",
      "\"unrealized_intraday_plpc\": -0.0146627565982405\n",
      "\"current_price\": 144.48\n",
      "\"lastday_price\": 146.63\n",
      "\"change_today\": -0.0146627565982405\n",
      "next\n",
      "\"asset_id\": 8ccae427-5dd0-45b3-b5fe-7ba5e422c766\n",
      "\"symbol\": TSLA\n",
      "\"exchange\": NASDAQ\n",
      "\"asset_class\": us_equity\n",
      "\"avg_entry_price\": 194.04\n",
      "\"qty\": 1\n",
      "\"side\": long\n",
      "\"market_value\": 179.13\n",
      "\"cost_basis\": 194.04\n",
      "\"unrealized_pl\": -14.91\n",
      "\"unrealized_plpc\": -0.0768398268398268\n",
      "\"unrealized_intraday_pl\": -3.32\n",
      "\"unrealized_intraday_plpc\": -0.0181967662373253\n",
      "\"current_price\": 179.13\n",
      "\"lastday_price\": 182.45\n",
      "\"change_today\": -0.0181967662373253\n",
      "next\n"
     ]
    }
   ],
   "source": [
    "# Get all open positions and print each of them\n",
    "positions = trading_client.get_all_positions()\n",
    "for position in positions:\n",
    "    for property_name, value in position:\n",
    "        print(f\"\\\"{property_name}\\\": {value}\")\n",
    "    print(\"next\")"
   ]
  },
  {
   "cell_type": "code",
   "execution_count": 57,
   "id": "b9de29de",
   "metadata": {},
   "outputs": [],
   "source": [
    "symbol = 'AAPL'"
   ]
  },
  {
   "cell_type": "code",
   "execution_count": 48,
   "id": "9d28a774",
   "metadata": {},
   "outputs": [],
   "source": [
    "apiserver_domain = 'paper-api.alpaca.markets'\n",
    "url =  f'https://{apiserver_domain}/v2/positions/{symbol}'"
   ]
  },
  {
   "cell_type": "code",
   "execution_count": 49,
   "id": "bdc25c7f",
   "metadata": {},
   "outputs": [],
   "source": [
    "r = requests.get(url,headers=HEADERS)"
   ]
  },
  {
   "cell_type": "code",
   "execution_count": 50,
   "id": "b00bcc0b",
   "metadata": {},
   "outputs": [
    {
     "name": "stdout",
     "output_type": "stream",
     "text": [
      "b'{\"asset_id\":\"b0b6dd9d-8b9b-48a9-ba46-b9d54906e415\",\"symbol\":\"AAPL\",\"exchange\":\"NASDAQ\",\"asset_class\":\"us_equity\",\"asset_marginable\":false,\"qty\":\"2\",\"avg_entry_price\":\"147.49\",\"side\":\"long\",\"market_value\":\"289.16\",\"cost_basis\":\"294.98\",\"unrealized_pl\":\"-5.82\",\"unrealized_plpc\":\"-0.0197301511966913\",\"unrealized_intraday_pl\":\"-4.1\",\"unrealized_intraday_plpc\":\"-0.0139807679192525\",\"current_price\":\"144.58\",\"lastday_price\":\"146.63\",\"change_today\":\"-0.0139807679192525\",\"qty_available\":\"2\"}'\n"
     ]
    }
   ],
   "source": [
    "print(r.content)"
   ]
  },
  {
   "cell_type": "code",
   "execution_count": 51,
   "id": "80d93902",
   "metadata": {},
   "outputs": [
    {
     "name": "stdout",
     "output_type": "stream",
     "text": [
      "{\"id\":\"7d7b68a9-7184-453e-8230-771372e821f7\",\"client_order_id\":\"7ec4918e-7c25-495d-b4bf-8c17d71711b8\",\"created_at\":\"2022-12-06T16:32:19.073041689Z\",\"updated_at\":\"2022-12-06T16:32:19.073089729Z\",\"submitted_at\":\"2022-12-06T16:32:19.072527499Z\",\"filled_at\":null,\"expired_at\":null,\"canceled_at\":null,\"failed_at\":null,\"replaced_at\":null,\"replaced_by\":null,\"replaces\":null,\"asset_id\":\"b0b6dd9d-8b9b-48a9-ba46-b9d54906e415\",\"symbol\":\"AAPL\",\"asset_class\":\"us_equity\",\"notional\":null,\"qty\":\"2\",\"filled_qty\":\"0\",\"filled_avg_price\":null,\"order_class\":\"\",\"order_type\":\"market\",\"type\":\"market\",\"side\":\"sell\",\"time_in_force\":\"day\",\"limit_price\":null,\"stop_price\":null,\"status\":\"pending_new\",\"extended_hours\":false,\"legs\":null,\"trail_percent\":null,\"trail_price\":null,\"hwm\":null,\"subtag\":null,\"source\":null}\n"
     ]
    }
   ],
   "source": [
    "url =  f'https://{apiserver_domain}/v2/positions/{symbol}'\n",
    "x = requests.delete(url,headers=HEADERS)\n",
    "print(x.text)"
   ]
  },
  {
   "cell_type": "code",
   "execution_count": 52,
   "metadata": {},
   "outputs": [
    {
     "name": "stdout",
     "output_type": "stream",
     "text": [
      "b'{\"id\":\"7d7b68a9-7184-453e-8230-771372e821f7\",\"client_order_id\":\"7ec4918e-7c25-495d-b4bf-8c17d71711b8\",\"created_at\":\"2022-12-06T16:32:19.073041689Z\",\"updated_at\":\"2022-12-06T16:32:19.073089729Z\",\"submitted_at\":\"2022-12-06T16:32:19.072527499Z\",\"filled_at\":null,\"expired_at\":null,\"canceled_at\":null,\"failed_at\":null,\"replaced_at\":null,\"replaced_by\":null,\"replaces\":null,\"asset_id\":\"b0b6dd9d-8b9b-48a9-ba46-b9d54906e415\",\"symbol\":\"AAPL\",\"asset_class\":\"us_equity\",\"notional\":null,\"qty\":\"2\",\"filled_qty\":\"0\",\"filled_avg_price\":null,\"order_class\":\"\",\"order_type\":\"market\",\"type\":\"market\",\"side\":\"sell\",\"time_in_force\":\"day\",\"limit_price\":null,\"stop_price\":null,\"status\":\"pending_new\",\"extended_hours\":false,\"legs\":null,\"trail_percent\":null,\"trail_price\":null,\"hwm\":null,\"subtag\":null,\"source\":null}'\n"
     ]
    }
   ],
   "source": [
    "print(x.content)"
   ]
  },
  {
   "cell_type": "code",
   "execution_count": 63,
   "id": "34829c8d",
   "metadata": {},
   "outputs": [],
   "source": [
    "params = {\"symbol\":symbol, \"notional\": \"1000\", \"side\":\"buy\", \"type\":\"market\",\"time_in_force\":\"day\"}"
   ]
  },
  {
   "cell_type": "code",
   "execution_count": 64,
   "id": "1844464a",
   "metadata": {},
   "outputs": [],
   "source": [
    "url =  f'https://{apiserver_domain}/v2/orders'\n",
    "o = requests.post(url, json=params,headers=HEADERS)"
   ]
  },
  {
   "cell_type": "code",
   "execution_count": 65,
   "id": "a6ceff45",
   "metadata": {},
   "outputs": [
    {
     "name": "stdout",
     "output_type": "stream",
     "text": [
      "{\"id\":\"5b9becea-3d33-482c-b41d-3a307673a244\",\"client_order_id\":\"2acde4e6-4f30-4545-9ce2-ecae48c17746\",\"created_at\":\"2022-12-06T17:07:04.014437115Z\",\"updated_at\":\"2022-12-06T17:07:04.014475285Z\",\"submitted_at\":\"2022-12-06T17:07:04.013480135Z\",\"filled_at\":null,\"expired_at\":null,\"canceled_at\":null,\"failed_at\":null,\"replaced_at\":null,\"replaced_by\":null,\"replaces\":null,\"asset_id\":\"b0b6dd9d-8b9b-48a9-ba46-b9d54906e415\",\"symbol\":\"AAPL\",\"asset_class\":\"us_equity\",\"notional\":\"1000\",\"qty\":null,\"filled_qty\":\"0\",\"filled_avg_price\":null,\"order_class\":\"\",\"order_type\":\"market\",\"type\":\"market\",\"side\":\"buy\",\"time_in_force\":\"day\",\"limit_price\":null,\"stop_price\":null,\"status\":\"pending_new\",\"extended_hours\":false,\"legs\":null,\"trail_percent\":null,\"trail_price\":null,\"hwm\":null,\"subtag\":null,\"source\":null}\n"
     ]
    }
   ],
   "source": [
    "print(o.text)"
   ]
  },
  {
   "cell_type": "code",
   "execution_count": null,
   "id": "921c2b7f",
   "metadata": {},
   "outputs": [],
   "source": []
  },
  {
   "cell_type": "code",
   "execution_count": null,
   "id": "76927116",
   "metadata": {},
   "outputs": [],
   "source": []
  },
  {
   "cell_type": "code",
   "execution_count": null,
   "id": "14337e6e",
   "metadata": {},
   "outputs": [],
   "source": []
  },
  {
   "cell_type": "code",
   "execution_count": 33,
   "id": "102b6bdd",
   "metadata": {},
   "outputs": [
    {
     "data": {
      "text/plain": [
       "dict_keys(['Meta Data', 'Time Series (5min)'])"
      ]
     },
     "execution_count": 33,
     "metadata": {},
     "output_type": "execute_result"
    }
   ],
   "source": [
    "data.keys()"
   ]
  },
  {
   "cell_type": "code",
   "execution_count": 31,
   "id": "e1a6bbab",
   "metadata": {},
   "outputs": [
    {
     "data": {
      "text/plain": [
       "{'1. Information': 'Intraday (5min) open, high, low, close prices and volume',\n",
       " '2. Symbol': 'AAPL',\n",
       " '3. Last Refreshed': '2022-12-02 20:00:00',\n",
       " '4. Interval': '5min',\n",
       " '5. Output Size': 'Full size',\n",
       " '6. Time Zone': 'US/Eastern'}"
      ]
     },
     "execution_count": 31,
     "metadata": {},
     "output_type": "execute_result"
    }
   ],
   "source": [
    "data['Meta Data']"
   ]
  },
  {
   "cell_type": "code",
   "execution_count": null,
   "id": "247b2fb2",
   "metadata": {},
   "outputs": [],
   "source": [
    "data['Meta Data']"
   ]
  },
  {
   "cell_type": "code",
   "execution_count": 36,
   "id": "136bf844",
   "metadata": {},
   "outputs": [
    {
     "data": {
      "text/html": [
       "<div>\n",
       "<style scoped>\n",
       "    .dataframe tbody tr th:only-of-type {\n",
       "        vertical-align: middle;\n",
       "    }\n",
       "\n",
       "    .dataframe tbody tr th {\n",
       "        vertical-align: top;\n",
       "    }\n",
       "\n",
       "    .dataframe thead th {\n",
       "        text-align: right;\n",
       "    }\n",
       "</style>\n",
       "<table border=\"1\" class=\"dataframe\">\n",
       "  <thead>\n",
       "    <tr style=\"text-align: right;\">\n",
       "      <th></th>\n",
       "      <th>1. open</th>\n",
       "      <th>2. high</th>\n",
       "      <th>3. low</th>\n",
       "      <th>4. close</th>\n",
       "      <th>5. volume</th>\n",
       "    </tr>\n",
       "  </thead>\n",
       "  <tbody>\n",
       "    <tr>\n",
       "      <th>2022-12-02 20:00:00</th>\n",
       "      <td>147.5100</td>\n",
       "      <td>147.5100</td>\n",
       "      <td>147.4200</td>\n",
       "      <td>147.5000</td>\n",
       "      <td>4270</td>\n",
       "    </tr>\n",
       "    <tr>\n",
       "      <th>2022-12-02 19:55:00</th>\n",
       "      <td>147.5000</td>\n",
       "      <td>147.5000</td>\n",
       "      <td>147.5000</td>\n",
       "      <td>147.5000</td>\n",
       "      <td>549</td>\n",
       "    </tr>\n",
       "    <tr>\n",
       "      <th>2022-12-02 19:50:00</th>\n",
       "      <td>147.4500</td>\n",
       "      <td>147.5000</td>\n",
       "      <td>147.4300</td>\n",
       "      <td>147.5000</td>\n",
       "      <td>4718</td>\n",
       "    </tr>\n",
       "    <tr>\n",
       "      <th>2022-12-02 19:45:00</th>\n",
       "      <td>147.4900</td>\n",
       "      <td>147.4900</td>\n",
       "      <td>147.4500</td>\n",
       "      <td>147.4500</td>\n",
       "      <td>903</td>\n",
       "    </tr>\n",
       "    <tr>\n",
       "      <th>2022-12-02 19:35:00</th>\n",
       "      <td>147.4500</td>\n",
       "      <td>147.4600</td>\n",
       "      <td>147.4200</td>\n",
       "      <td>147.4600</td>\n",
       "      <td>1628</td>\n",
       "    </tr>\n",
       "    <tr>\n",
       "      <th>...</th>\n",
       "      <td>...</td>\n",
       "      <td>...</td>\n",
       "      <td>...</td>\n",
       "      <td>...</td>\n",
       "      <td>...</td>\n",
       "    </tr>\n",
       "    <tr>\n",
       "      <th>2022-11-04 04:25:00</th>\n",
       "      <td>138.5500</td>\n",
       "      <td>138.6900</td>\n",
       "      <td>138.5500</td>\n",
       "      <td>138.6300</td>\n",
       "      <td>4095</td>\n",
       "    </tr>\n",
       "    <tr>\n",
       "      <th>2022-11-04 04:20:00</th>\n",
       "      <td>138.7700</td>\n",
       "      <td>138.8800</td>\n",
       "      <td>138.6900</td>\n",
       "      <td>138.6900</td>\n",
       "      <td>9184</td>\n",
       "    </tr>\n",
       "    <tr>\n",
       "      <th>2022-11-04 04:15:00</th>\n",
       "      <td>138.6300</td>\n",
       "      <td>138.8000</td>\n",
       "      <td>138.5100</td>\n",
       "      <td>138.7600</td>\n",
       "      <td>13289</td>\n",
       "    </tr>\n",
       "    <tr>\n",
       "      <th>2022-11-04 04:10:00</th>\n",
       "      <td>138.6600</td>\n",
       "      <td>138.7000</td>\n",
       "      <td>138.5100</td>\n",
       "      <td>138.5100</td>\n",
       "      <td>13920</td>\n",
       "    </tr>\n",
       "    <tr>\n",
       "      <th>2022-11-04 04:05:00</th>\n",
       "      <td>138.0100</td>\n",
       "      <td>138.8200</td>\n",
       "      <td>138.0100</td>\n",
       "      <td>138.6900</td>\n",
       "      <td>19899</td>\n",
       "    </tr>\n",
       "  </tbody>\n",
       "</table>\n",
       "<p>3692 rows × 5 columns</p>\n",
       "</div>"
      ],
      "text/plain": [
       "                      1. open   2. high    3. low  4. close 5. volume\n",
       "2022-12-02 20:00:00  147.5100  147.5100  147.4200  147.5000      4270\n",
       "2022-12-02 19:55:00  147.5000  147.5000  147.5000  147.5000       549\n",
       "2022-12-02 19:50:00  147.4500  147.5000  147.4300  147.5000      4718\n",
       "2022-12-02 19:45:00  147.4900  147.4900  147.4500  147.4500       903\n",
       "2022-12-02 19:35:00  147.4500  147.4600  147.4200  147.4600      1628\n",
       "...                       ...       ...       ...       ...       ...\n",
       "2022-11-04 04:25:00  138.5500  138.6900  138.5500  138.6300      4095\n",
       "2022-11-04 04:20:00  138.7700  138.8800  138.6900  138.6900      9184\n",
       "2022-11-04 04:15:00  138.6300  138.8000  138.5100  138.7600     13289\n",
       "2022-11-04 04:10:00  138.6600  138.7000  138.5100  138.5100     13920\n",
       "2022-11-04 04:05:00  138.0100  138.8200  138.0100  138.6900     19899\n",
       "\n",
       "[3692 rows x 5 columns]"
      ]
     },
     "execution_count": 36,
     "metadata": {},
     "output_type": "execute_result"
    }
   ],
   "source": [
    "pd.DataFrame.from_dict(data['Time Series (5min)'], orient='index')"
   ]
  },
  {
   "cell_type": "code",
   "execution_count": null,
   "id": "960611b7",
   "metadata": {},
   "outputs": [],
   "source": []
  },
  {
   "cell_type": "code",
   "execution_count": 19,
   "id": "58c937c0",
   "metadata": {},
   "outputs": [],
   "source": [
    "ws = websocket.WebSocket(sslopt={\"cert_reqs\": ssl.CERT_NONE})\n",
    "ws.connect(\"wss://stream.data.alpaca.markets/v2/iex\")"
   ]
  },
  {
   "cell_type": "code",
   "execution_count": 20,
   "id": "892afe5a",
   "metadata": {},
   "outputs": [
    {
     "name": "stdout",
     "output_type": "stream",
     "text": [
      "[{\"T\":\"success\",\"msg\":\"connected\"}]\n"
     ]
    }
   ],
   "source": [
    "print(ws.recv())"
   ]
  },
  {
   "cell_type": "code",
   "execution_count": 21,
   "id": "1f5582c6",
   "metadata": {},
   "outputs": [],
   "source": [
    "authenticate_str = '{\"action\": \"auth\", \"key\": \"PK8ZOSEE0UA91VMR6JBB\", \"secret\": \"GC79IfVdqr7UBt16dkvYcsQh6BAIcahGnwwnUtfR\"}'"
   ]
  },
  {
   "cell_type": "code",
   "execution_count": 22,
   "id": "8ed7518a",
   "metadata": {},
   "outputs": [
    {
     "data": {
      "text/plain": [
       "'{\"action\": \"auth\", \"key\": \"PK8ZOSEE0UA91VMR6JBB\", \"secret\": \"GC79IfVdqr7UBt16dkvYcsQh6BAIcahGnwwnUtfR\"}'"
      ]
     },
     "execution_count": 22,
     "metadata": {},
     "output_type": "execute_result"
    }
   ],
   "source": [
    "authenticate_str"
   ]
  },
  {
   "cell_type": "code",
   "execution_count": 23,
   "id": "457361af",
   "metadata": {},
   "outputs": [
    {
     "data": {
      "text/plain": [
       "109"
      ]
     },
     "execution_count": 23,
     "metadata": {},
     "output_type": "execute_result"
    }
   ],
   "source": [
    "ws.send(authenticate_str)"
   ]
  },
  {
   "cell_type": "code",
   "execution_count": 24,
   "id": "0eb7b905",
   "metadata": {},
   "outputs": [
    {
     "name": "stdout",
     "output_type": "stream",
     "text": [
      "[{\"T\":\"success\",\"msg\":\"authenticated\"}]\n"
     ]
    }
   ],
   "source": [
    "print(ws.recv())"
   ]
  },
  {
   "cell_type": "code",
   "execution_count": 25,
   "id": "c1ecdb0f",
   "metadata": {},
   "outputs": [],
   "source": [
    "subscription_str = f'{{\"action\":\"subscribe\",\"trades\":[\"AAPL\"],\"quotes\":[\"AMD\",\"CLDR\"],\"bars\":[\"AAPL\",\"VOO\"]}}'"
   ]
  },
  {
   "cell_type": "code",
   "execution_count": 26,
   "id": "5a0f85e6",
   "metadata": {},
   "outputs": [
    {
     "data": {
      "text/plain": [
       "'{\"action\":\"subscribe\",\"trades\":[\"AAPL\"],\"quotes\":[\"AMD\",\"CLDR\"],\"bars\":[\"AAPL\",\"VOO\"]}'"
      ]
     },
     "execution_count": 26,
     "metadata": {},
     "output_type": "execute_result"
    }
   ],
   "source": [
    "subscription_str"
   ]
  },
  {
   "cell_type": "code",
   "execution_count": 27,
   "id": "8dea599c",
   "metadata": {},
   "outputs": [
    {
     "data": {
      "text/plain": [
       "92"
      ]
     },
     "execution_count": 27,
     "metadata": {},
     "output_type": "execute_result"
    }
   ],
   "source": [
    "ws.send(subscription_str)"
   ]
  },
  {
   "cell_type": "code",
   "execution_count": 28,
   "id": "c807a2a7",
   "metadata": {},
   "outputs": [
    {
     "name": "stdout",
     "output_type": "stream",
     "text": [
      "[{\"T\":\"subscription\",\"trades\":[\"AAPL\"],\"quotes\":[\"AMD\",\"CLDR\"],\"bars\":[\"AAPL\",\"VOO\"],\"updatedBars\":[],\"dailyBars\":[],\"statuses\":[],\"lulds\":[],\"corrections\":[\"AAPL\"],\"cancelErrors\":[\"AAPL\"]}]\n"
     ]
    }
   ],
   "source": [
    "print(ws.recv())"
   ]
  },
  {
   "cell_type": "code",
   "execution_count": 29,
   "id": "fc63e9c6",
   "metadata": {},
   "outputs": [
    {
     "name": "stderr",
     "output_type": "stream",
     "text": [
      "--- request header ---\n",
      "GET /v2/iex HTTP/1.1\n",
      "Upgrade: websocket\n",
      "Host: stream.data.alpaca.markets\n",
      "Origin: https://stream.data.alpaca.markets\n",
      "Sec-WebSocket-Key: Sjvy5IydbYYgxSGH45VWNA==\n",
      "Sec-WebSocket-Version: 13\n",
      "Connection: Upgrade\n",
      "\n",
      "\n",
      "-----------------------\n",
      "--- response header ---\n",
      "HTTP/1.1 101 Switching Protocols\n",
      "Date: Sat, 03 Dec 2022 22:47:26 GMT\n",
      "Connection: upgrade\n",
      "Upgrade: websocket\n",
      "Sec-WebSocket-Accept: MWViEAca3lzXZLB/DQIGVmoTXYQ=\n",
      "Strict-Transport-Security: max-age=15724800; includeSubDomains\n",
      "-----------------------\n",
      "++Rcv raw: b'\\x81#[{\"T\":\"success\",\"msg\":\"connected\"}]'\n",
      "++Rcv decoded: fin=1 opcode=1 data=b'[{\"T\":\"success\",\"msg\":\"connected\"}]'\n"
     ]
    },
    {
     "name": "stdout",
     "output_type": "stream",
     "text": [
      "Opened connection\n",
      "[{\"T\":\"success\",\"msg\":\"connected\"}]\n"
     ]
    },
    {
     "name": "stderr",
     "output_type": "stream",
     "text": [
      "++Rcv raw: b'\\x81/[{\"T\":\"error\",\"code\":404,\"msg\":\"auth timeout\"}]'\n",
      "++Rcv decoded: fin=1 opcode=1 data=b'[{\"T\":\"error\",\"code\":404,\"msg\":\"auth timeout\"}]'\n"
     ]
    },
    {
     "name": "stdout",
     "output_type": "stream",
     "text": [
      "[{\"T\":\"error\",\"code\":404,\"msg\":\"auth timeout\"}]\n",
      "Connection to remote host was lost.\n",
      "### closed ###\n"
     ]
    }
   ],
   "source": [
    "def on_message(ws, message):\n",
    "    print(message)\n",
    "\n",
    "def on_error(ws, error):\n",
    "    print(error)\n",
    "\n",
    "def on_close(ws, close_status_code, close_msg):\n",
    "    print(\"### closed ###\")\n",
    "\n",
    "def on_open(ws):\n",
    "    print(\"Opened connection\")\n",
    "\n",
    "if __name__ == \"__main__\":\n",
    "    websocket.enableTrace(True)\n",
    "    ws = websocket.WebSocketApp(\"wss://stream.data.alpaca.markets/v2/iex\",\n",
    "                              on_open=on_open,\n",
    "                              on_message=on_message,\n",
    "                              on_error=on_error,\n",
    "                              on_close=on_close)\n",
    "\n",
    "    ws.run_forever()  # Set dispatcher to automatic reconnection, 5 second reconnect delay if connection closed unexpectedly"
   ]
  },
  {
   "cell_type": "code",
   "execution_count": null,
   "id": "4d3fe26d",
   "metadata": {},
   "outputs": [],
   "source": []
  },
  {
   "cell_type": "code",
   "execution_count": 74,
   "id": "e7b9e6f4",
   "metadata": {},
   "outputs": [
    {
     "data": {
      "text/plain": [
       "True"
      ]
     },
     "execution_count": 74,
     "metadata": {},
     "output_type": "execute_result"
    }
   ],
   "source": [
    "import websocket, json\n",
    "\n",
    "def on_open(ws):\n",
    "    print(\"opened\")\n",
    "    auth_data = {\n",
    "        \"action\": \"authenticate\",\n",
    "        \"data\": {\"key_id\": API_KEY, \"secret_key\": SECRET_KEY}\n",
    "    }\n",
    "\n",
    "    ws.send(json.dumps(auth_data))\n",
    "\n",
    "    # channel_data = {\n",
    "    #     \"action\": \"subscribe\",\n",
    "    #     \"params\": TICKERS\n",
    "    # }\n",
    "\n",
    "    # ws.send(json.dumps(channel_data))\n",
    "\n",
    "\n",
    "def on_message(ws, message):\n",
    "    print(\"received a message\")\n",
    "    print(message)\n",
    "\n",
    "def on_close(ws):\n",
    "    print(\"closed connection\")\n",
    "\n",
    "socket = \"wss://data.alpaca.markets/stream\"\n",
    "\n",
    "ws = websocket.WebSocketApp(socket, on_open=on_open)\n",
    "# ws = websocket.WebSocketApp(socket, on_open=on_open, on_message=on_message, on_close=on_close)\n",
    "ws.run_forever()"
   ]
  },
  {
   "cell_type": "code",
   "execution_count": null,
   "id": "fc32ad32",
   "metadata": {},
   "outputs": [],
   "source": []
  }
 ],
 "metadata": {
  "kernelspec": {
   "display_name": "Python 3.9.12 64-bit",
   "language": "python",
   "name": "python3"
  },
  "language_info": {
   "codemirror_mode": {
    "name": "ipython",
    "version": 3
   },
   "file_extension": ".py",
   "mimetype": "text/x-python",
   "name": "python",
   "nbconvert_exporter": "python",
   "pygments_lexer": "ipython3",
   "version": "3.9.12"
  },
  "vscode": {
   "interpreter": {
    "hash": "aee8b7b246df8f9039afb4144a1f6fd8d2ca17a180786b69acc140d282b71a49"
   }
  }
 },
 "nbformat": 4,
 "nbformat_minor": 5
}
